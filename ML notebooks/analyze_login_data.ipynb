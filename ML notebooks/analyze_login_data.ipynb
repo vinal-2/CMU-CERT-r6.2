{
 "cells": [
  {
   "cell_type": "code",
   "execution_count": null,
   "metadata": {},
   "outputs": [],
   "source": [
    "import pandas as pd\n",
    "import numpy as np\n",
    "from sklearn.preprocessing import LabelEncoder\n",
    "from sklearn.ensemble import IsolationForest\n",
    "from scipy import stats\n",
    "import matplotlib.pyplot as plt\n",
    "import itertools\n"
   ]
  },
  {
   "cell_type": "code",
   "execution_count": null,
   "metadata": {},
   "outputs": [],
   "source": [
    "\n",
    "# Set the path to your file\n",
    "input_filename = \"E:/Dataset/Computer Emergency Response Team (CERT) r6.2/r6.2/r6.2/login_transformed.csv\"\n",
    "\n",
    "# Read CSV file into DataFrame\n",
    "df_read = pd.read_csv(input_filename)\n"
   ]
  },
  {
   "cell_type": "code",
   "execution_count": null,
   "metadata": {},
   "outputs": [],
   "source": [
    "\n",
    "# Encode the categorical features\n",
    "encs = dict()\n",
    "for column in df_read.columns:\n",
    "    if df_read[column].dtype == \"object\":\n",
    "        encs[column] = LabelEncoder()\n",
    "        df_read[column] = encs[column].fit_transform(df_read[column])\n",
    "\n",
    "# Create the Isolation Forest\n",
    "clf = IsolationForest(n_estimators=200, max_samples=300)\n",
    "\n",
    "# Transform in to periodical features\n",
    "df_read['hour_sin'] = np.sin(df_read.hour*(2.*np.pi/24))\n",
    "df_read['hour_cos'] = np.cos(df_read.hour*(2.*np.pi/24))\n",
    "\n",
    "# Drop the original time features\n",
    "df_read = df_read.drop('hour', 1)\n",
    "\n",
    "# Prepare the training data\n",
    "train_data = df_read.drop('threat', 1)\n",
    "\n",
    "# Define the function to create unique datasets\n",
    "def createUniqueDataframe(features):\n",
    "    new_combination = train_data[features].copy()\n",
    "    calculateAnomalyScore(new_combination)\n",
    "\n",
    "# Define the function to combine features\n",
    "def combineFeatures(): \n",
    "    for L in range(1, len(train_data.columns)+1):\n",
    "        for subset in itertools.combinations(train_data.columns, L):\n",
    "            createUniqueDataframe(list(subset))\n",
    "\n",
    "# Define the function to calculate anomaly scores\n",
    "def calculateAnomalyScore(dataset):\n",
    "    outputfile = \"LabelEncoded-KS-non-cyclical.txt\"\n",
    "    \n",
    "    # Train the model\n",
    "    clf.fit(dataset)\n",
    "    \n",
    "    # Calculate the anomaly score\n",
    "    anomaly_score = clf.decision_function(dataset)\n",
    "    \n",
    "    # Add the anomaly score to the data frame\n",
    "    df_read['anomaly_score'] = anomaly_score\n",
    "    \n",
    "    avg_count_0 = df_read.loc[df_read.threat==0]    #Data frame with true negatives\n",
    "    avg_count_1 = df_read.loc[df_read.threat==1]    #Data frame with true positives\n",
    "    \n",
    "    features = dataset.columns.tolist()\n",
    "    (ks_stat, pval) = stats.ks_2samp(avg_count_1.anomaly_score, avg_count_0.anomaly_score)\n",
    "    \n",
    "    output_file = open(outputfile, \"a\")\n",
    "    output_file.write(str(features)+\";\"+str(ks_stat)+\";\"+str(pval)+\"\\n\")\n",
    "    output_file.close()\n",
    "\n",
    "# Run the functions\n",
    "combineFeatures()\n"
   ]
  },
  {
   "cell_type": "code",
   "execution_count": null,
   "metadata": {},
   "outputs": [],
   "source": [
    "\n",
    "# Plot the distribution of the scores for non-threats\n",
    "plt.figure(figsize=(8, 4), dpi=600, facecolor='w', edgecolor='k')\n",
    "normal = plt.hist(df_read.loc[df_read.threat==0].anomaly_score, 50, density=True)\n",
    "plt.xlabel('Anomaly score')\n",
    "plt.ylabel('Percentage')\n",
    "plt.title(\"Distribution of anomaly score for non threats\")\n",
    "plt.show()\n"
   ]
  },
  {
   "cell_type": "code",
   "execution_count": null,
   "metadata": {},
   "outputs": [],
   "source": [
    "\n",
    "# Plot the distribution of the scores for threats\n",
    "plt.figure(figsize=(8, 4), dpi=600, facecolor='w', edgecolor='k')\n",
    "normal = plt.hist(df_read.loc[df_read.threat==1].anomaly_score, 50, density=True)\n",
    "plt.xlabel('Anomaly score')\n",
    "plt.ylabel('Percentage')\n",
    "plt.title(\"Distribution of anomaly score for threats\")\n",
    "plt.show()\n"
   ]
  },
  {
   "cell_type": "code",
   "execution_count": null,
   "metadata": {},
   "outputs": [],
   "source": [
    "\n",
    "# Kolmogorov-Smirnov Test\n",
    "avg_count_1 = df_read.loc[df_read.threat==1]    #Data frame with true positives\n",
    "avg_count_0 = df_read.loc[df_read.threat==0]    #Data frame with true negatives\n",
    "(ks_stat, pval) = stats.ks_2samp(avg_count_1.anomaly_score, avg_count_0.anomaly_score)\n",
    "print(\"KS statistic: \" + str(ks_stat) + \"\\np-value: \" + str(pval))\n"
   ]
  }
 ],
 "metadata": {
  "kernelspec": {
   "display_name": "Python 3",
   "language": "python",
   "name": "python3"
  },
  "language_info": {
   "name": "python",
   "version": "3.10.2"
  },
  "orig_nbformat": 4
 },
 "nbformat": 4,
 "nbformat_minor": 2
}
