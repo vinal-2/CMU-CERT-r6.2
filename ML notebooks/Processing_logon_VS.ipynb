{
 "cells": [
  {
   "cell_type": "code",
   "execution_count": 1,
   "metadata": {},
   "outputs": [
    {
     "name": "stdout",
     "output_type": "stream",
     "text": [
      "                         id                 date     user       pc activity\n",
      "0  {F3X8-Y2GT43DR-4906OHBL}  01/02/2010 02:19:18  DNS1758  PC-0414    Logon\n",
      "1  {B4Q0-D0GM24KN-3704MAII}  01/02/2010 02:31:12  DNS1758  PC-0414   Logoff\n",
      "2  {T7J1-D4HK34KV-5476TCIJ}  01/02/2010 02:34:02  DNS1758  PC-5313    Logon\n",
      "3  {S4Y6-D8MQ05SA-0759HLIS}  01/02/2010 02:53:30  DNS1758  PC-5313   Logoff\n",
      "4  {F3P0-E7FH78CV-4874FRGZ}  01/02/2010 04:07:31  DNS1758  PC-0012    Logon\n"
     ]
    }
   ],
   "source": [
    "# Import necessary libraries\n",
    "import pandas as pd\n",
    "from datetime import datetime\n",
    "\n",
    "# Load the dataset\n",
    "logon_path = 'E:\\Dataset\\Computer Emergency Response Team (CERT) r6.2/r6.2/r6.2/logon.csv'\n",
    "logon_df = pd.read_csv(logon_path)\n",
    "\n",
    "print(logon_df.head())"
   ]
  },
  {
   "cell_type": "code",
   "execution_count": 2,
   "metadata": {},
   "outputs": [],
   "source": [
    "\n",
    "# Convert 'date' column to datetime format\n",
    "logon_df['date'] = pd.to_datetime(logon_df['date'])\n",
    "\n",
    "# Extract day of week from 'date' column (0 = Monday, 6 = Sunday)\n",
    "logon_df['day_of_week'] = logon_df['date'].dt.dayofweek\n",
    "\n",
    "# Extract hour from 'date' column\n",
    "logon_df['hour'] = logon_df['date'].dt.hour"
   ]
  },
  {
   "cell_type": "code",
   "execution_count": 3,
   "metadata": {},
   "outputs": [
    {
     "name": "stdout",
     "output_type": "stream",
     "text": [
      "                         id                date     user       pc activity  \\\n",
      "0  {F3X8-Y2GT43DR-4906OHBL} 2010-01-02 02:19:18  DNS1758  PC-0414    Logon   \n",
      "1  {B4Q0-D0GM24KN-3704MAII} 2010-01-02 02:31:12  DNS1758  PC-0414   Logoff   \n",
      "2  {T7J1-D4HK34KV-5476TCIJ} 2010-01-02 02:34:02  DNS1758  PC-5313    Logon   \n",
      "3  {S4Y6-D8MQ05SA-0759HLIS} 2010-01-02 02:53:30  DNS1758  PC-5313   Logoff   \n",
      "4  {F3P0-E7FH78CV-4874FRGZ} 2010-01-02 04:07:31  DNS1758  PC-0012    Logon   \n",
      "\n",
      "   day_of_week  hour  Weekday_Logon_After  Weekday_Logon_Normal  Weekend_Logon  \n",
      "0            5     2                    0                     0              1  \n",
      "1            5     2                    0                     0              1  \n",
      "2            5     2                    0                     0              1  \n",
      "3            5     2                    0                     0              1  \n",
      "4            5     4                    0                     0              1  \n"
     ]
    }
   ],
   "source": [
    "# Feature 1: Weekday_Logon_After\n",
    "# Employees log on outside of working hours (before 8 AM or after 6 PM) on weekdays\n",
    "logon_df['Weekday_Logon_After'] = ((logon_df['day_of_week'] < 5) & ((logon_df['hour'] < 8) | (logon_df['hour'] > 18))).astype(int)\n",
    "\n",
    "# Feature 2: Weekday_Logon_Normal\n",
    "# Employees log on during working hours (between 8 AM and 6 PM) on weekdays\n",
    "logon_df['Weekday_Logon_Normal'] = ((logon_df['day_of_week'] < 5) & (logon_df['hour'] >= 8) & (logon_df['hour'] <= 18)).astype(int)\n",
    "\n",
    "# Feature 3: Weekend_Logon\n",
    "# Employees log on during weekends\n",
    "logon_df['Weekend_Logon'] = (logon_df['day_of_week'] >= 5).astype(int)\n",
    "\n",
    "# Print the updated DataFrame\n",
    "print(logon_df.head())\n",
    "\n",
    "\n",
    "# logon_df.to_csv('processed_logon.csv', index=False)"
   ]
  },
  {
   "cell_type": "code",
   "execution_count": 5,
   "metadata": {},
   "outputs": [],
   "source": [
    "# Save the updated DataFrame to a new CSV file in a specific directory\n",
    "logon_df.to_csv('E:\\\\Dataset\\\\Computer Emergency Response Team (CERT) r6.2\\\\r6.2\\\\r6.2\\\\Newprocessed_logon.csv', index=False)"
   ]
  }
 ],
 "metadata": {
  "kernelspec": {
   "display_name": "Python 3",
   "language": "python",
   "name": "python3"
  },
  "language_info": {
   "codemirror_mode": {
    "name": "ipython",
    "version": 3
   },
   "file_extension": ".py",
   "mimetype": "text/x-python",
   "name": "python",
   "nbconvert_exporter": "python",
   "pygments_lexer": "ipython3",
   "version": "3.10.2"
  },
  "orig_nbformat": 4
 },
 "nbformat": 4,
 "nbformat_minor": 2
}
