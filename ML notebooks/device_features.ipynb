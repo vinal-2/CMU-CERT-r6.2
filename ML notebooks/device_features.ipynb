{
 "cells": [
  {
   "cell_type": "code",
   "execution_count": 1,
   "metadata": {},
   "outputs": [],
   "source": [
    "# Import necessary libraries\n",
    "import pandas as pd\n",
    "\n",
    "# Load the dataset\n",
    "df_http_user = pd.read_csv('E:\\Dataset\\Computer Emergency Response Team (CERT) r6.2\\\\r6.2\\\\r6.2\\\\New folder\\\\combine\\\\merge_1_http_user.csv')"
   ]
  },
  {
   "cell_type": "code",
   "execution_count": 2,
   "metadata": {},
   "outputs": [
    {
     "name": "stdout",
     "output_type": "stream",
     "text": [
      "                  date     user       pc  \\\n",
      "0  2010-01-04 07:40:08  ACM2278  PC-8431   \n",
      "1  2010-01-04 07:47:01  ACM2278  PC-8431   \n",
      "2  2010-01-04 07:47:41  ACM2278  PC-8431   \n",
      "3  2010-01-04 07:55:27  ACM2278  PC-8431   \n",
      "4  2010-01-04 07:58:11  ACM2278  PC-8431   \n",
      "\n",
      "                                                 url   activity  \\\n",
      "0  http://discovercard.com/Brian_Eaton/eaton/Cres...  WWW Visit   \n",
      "1  http://people.com/Coenwulf_of_Mercia/wulfred/f...  WWW Visit   \n",
      "2  http://foodnetwork.com/C_R_M_F_Cruttwell/waugh...  WWW Visit   \n",
      "3  http://lowes.com/Layla/allmans/Jngpuzra2111045...  WWW Visit   \n",
      "4  http://topix.com/Harmon_Killebrew/rbis/Ntnevph...  WWW Visit   \n",
      "\n",
      "                                             content      role  \\\n",
      "0  When Muhammad responded in the latter, Hubab s...  Salesman   \n",
      "1  This indicates that it might have developed as...  Salesman   \n",
      "2  The writer came up with the character names an...  Salesman   \n",
      "3  After realizing what he has done, he returns t...  Salesman   \n",
      "4  The species was first described scientifically...  Salesman   \n",
      "\n",
      "                       email department  \n",
      "0  Allen.Cruz.Mccoy@dtaa.com  2 - Sales  \n",
      "1  Allen.Cruz.Mccoy@dtaa.com  2 - Sales  \n",
      "2  Allen.Cruz.Mccoy@dtaa.com  2 - Sales  \n",
      "3  Allen.Cruz.Mccoy@dtaa.com  2 - Sales  \n",
      "4  Allen.Cruz.Mccoy@dtaa.com  2 - Sales  \n"
     ]
    }
   ],
   "source": [
    "print(df_http_user.head())"
   ]
  },
  {
   "cell_type": "code",
   "execution_count": 3,
   "metadata": {},
   "outputs": [],
   "source": [
    "# Convert date to datetime format\n",
    "df_http_user['date'] = pd.to_datetime(df_http_user['date'])\n",
    "\n",
    "# Sort by user and date for easier calculation\n",
    "df_http_user = df_http_user.sort_values(by=['user', 'date'])\n"
   ]
  },
  {
   "cell_type": "code",
   "execution_count": 4,
   "metadata": {},
   "outputs": [
    {
     "name": "stdout",
     "output_type": "stream",
     "text": [
      "                      date     user       pc  \\\n",
      "900266 2010-01-05 08:07:22  AAB0162  PC-6599   \n",
      "900251 2010-01-05 12:31:17  AAB0162  PC-6599   \n",
      "900107 2010-01-07 10:11:00  AAB0162  PC-6599   \n",
      "900305 2010-01-07 13:13:25  AAB0162  PC-6599   \n",
      "900217 2010-01-08 15:52:13  AAB0162  PC-6599   \n",
      "\n",
      "                                                      url   activity  \\\n",
      "900266  http://myspace.com/Mozart_family_grand_tour/za...  WWW Visit   \n",
      "900251  http://chase.com/Ediacara_biota/ediacara/Senax...  WWW Visit   \n",
      "900107  http://lockerz.com/Choe_Bu/ningbo/Rzzryvar_Cna...  WWW Visit   \n",
      "900305  http://mtv.com/Anna_of_East_Anglia/jurmin/Puvy...  WWW Visit   \n",
      "900217  http://cars.com/Byzantine_Empire/trebizond/Pve...  WWW Visit   \n",
      "\n",
      "                                                  content              role  \\\n",
      "900266  One obvious difference between the types is th...  HardwareEngineer   \n",
      "900251  Sinnock died in May 1947, before finishing the...  HardwareEngineer   \n",
      "900107  Though it has been praised as \"one of the few ...  HardwareEngineer   \n",
      "900305  While Almirante Latorre was individually more ...  HardwareEngineer   \n",
      "900217  Because of these concerns, the Geological Surv...  HardwareEngineer   \n",
      "\n",
      "                            email              department  \n",
      "900266  Amos.Ahmed.Burch@dtaa.com  3 - SoftwareManagement  \n",
      "900251  Amos.Ahmed.Burch@dtaa.com  3 - SoftwareManagement  \n",
      "900107  Amos.Ahmed.Burch@dtaa.com  3 - SoftwareManagement  \n",
      "900305  Amos.Ahmed.Burch@dtaa.com  3 - SoftwareManagement  \n",
      "900217  Amos.Ahmed.Burch@dtaa.com  3 - SoftwareManagement  \n"
     ]
    }
   ],
   "source": [
    "print(df_http_user.head())"
   ]
  },
  {
   "cell_type": "code",
   "execution_count": 5,
   "metadata": {},
   "outputs": [
    {
     "name": "stdout",
     "output_type": "stream",
     "text": [
      "Number of instances containing sensitive keywords:\n",
      "wikileaks: 7\n",
      "julian: 7\n",
      "assange: 7\n",
      "jobsearch: 0\n",
      "linkedin: 2501\n",
      "indeed.com: 2138\n",
      "keylogger: 2\n",
      "dropbox: 5582\n",
      "monstor: 0\n"
     ]
    },
    {
     "data": {
      "text/html": [
       "<div>\n",
       "<style scoped>\n",
       "    .dataframe tbody tr th:only-of-type {\n",
       "        vertical-align: middle;\n",
       "    }\n",
       "\n",
       "    .dataframe tbody tr th {\n",
       "        vertical-align: top;\n",
       "    }\n",
       "\n",
       "    .dataframe thead th {\n",
       "        text-align: right;\n",
       "    }\n",
       "</style>\n",
       "<table border=\"1\" class=\"dataframe\">\n",
       "  <thead>\n",
       "    <tr style=\"text-align: right;\">\n",
       "      <th></th>\n",
       "      <th>date</th>\n",
       "      <th>user</th>\n",
       "      <th>pc</th>\n",
       "      <th>url</th>\n",
       "      <th>activity</th>\n",
       "      <th>content</th>\n",
       "      <th>role</th>\n",
       "      <th>email</th>\n",
       "      <th>department</th>\n",
       "      <th>wikileaks_flag</th>\n",
       "      <th>julian_flag</th>\n",
       "      <th>assange_flag</th>\n",
       "      <th>jobsearch_flag</th>\n",
       "      <th>linkedin_flag</th>\n",
       "      <th>indeed.com_flag</th>\n",
       "      <th>keylogger_flag</th>\n",
       "      <th>dropbox_flag</th>\n",
       "      <th>monstor_flag</th>\n",
       "    </tr>\n",
       "  </thead>\n",
       "  <tbody>\n",
       "    <tr>\n",
       "      <th>900266</th>\n",
       "      <td>2010-01-05 08:07:22</td>\n",
       "      <td>AAB0162</td>\n",
       "      <td>PC-6599</td>\n",
       "      <td>http://myspace.com/Mozart_family_grand_tour/za...</td>\n",
       "      <td>WWW Visit</td>\n",
       "      <td>One obvious difference between the types is th...</td>\n",
       "      <td>HardwareEngineer</td>\n",
       "      <td>Amos.Ahmed.Burch@dtaa.com</td>\n",
       "      <td>3 - SoftwareManagement</td>\n",
       "      <td>0</td>\n",
       "      <td>0</td>\n",
       "      <td>0</td>\n",
       "      <td>0</td>\n",
       "      <td>0</td>\n",
       "      <td>0</td>\n",
       "      <td>0</td>\n",
       "      <td>0</td>\n",
       "      <td>0</td>\n",
       "    </tr>\n",
       "    <tr>\n",
       "      <th>900251</th>\n",
       "      <td>2010-01-05 12:31:17</td>\n",
       "      <td>AAB0162</td>\n",
       "      <td>PC-6599</td>\n",
       "      <td>http://chase.com/Ediacara_biota/ediacara/Senax...</td>\n",
       "      <td>WWW Visit</td>\n",
       "      <td>Sinnock died in May 1947, before finishing the...</td>\n",
       "      <td>HardwareEngineer</td>\n",
       "      <td>Amos.Ahmed.Burch@dtaa.com</td>\n",
       "      <td>3 - SoftwareManagement</td>\n",
       "      <td>0</td>\n",
       "      <td>0</td>\n",
       "      <td>0</td>\n",
       "      <td>0</td>\n",
       "      <td>0</td>\n",
       "      <td>0</td>\n",
       "      <td>0</td>\n",
       "      <td>0</td>\n",
       "      <td>0</td>\n",
       "    </tr>\n",
       "    <tr>\n",
       "      <th>900107</th>\n",
       "      <td>2010-01-07 10:11:00</td>\n",
       "      <td>AAB0162</td>\n",
       "      <td>PC-6599</td>\n",
       "      <td>http://lockerz.com/Choe_Bu/ningbo/Rzzryvar_Cna...</td>\n",
       "      <td>WWW Visit</td>\n",
       "      <td>Though it has been praised as \"one of the few ...</td>\n",
       "      <td>HardwareEngineer</td>\n",
       "      <td>Amos.Ahmed.Burch@dtaa.com</td>\n",
       "      <td>3 - SoftwareManagement</td>\n",
       "      <td>0</td>\n",
       "      <td>0</td>\n",
       "      <td>0</td>\n",
       "      <td>0</td>\n",
       "      <td>0</td>\n",
       "      <td>0</td>\n",
       "      <td>0</td>\n",
       "      <td>0</td>\n",
       "      <td>0</td>\n",
       "    </tr>\n",
       "    <tr>\n",
       "      <th>900305</th>\n",
       "      <td>2010-01-07 13:13:25</td>\n",
       "      <td>AAB0162</td>\n",
       "      <td>PC-6599</td>\n",
       "      <td>http://mtv.com/Anna_of_East_Anglia/jurmin/Puvy...</td>\n",
       "      <td>WWW Visit</td>\n",
       "      <td>While Almirante Latorre was individually more ...</td>\n",
       "      <td>HardwareEngineer</td>\n",
       "      <td>Amos.Ahmed.Burch@dtaa.com</td>\n",
       "      <td>3 - SoftwareManagement</td>\n",
       "      <td>0</td>\n",
       "      <td>0</td>\n",
       "      <td>0</td>\n",
       "      <td>0</td>\n",
       "      <td>0</td>\n",
       "      <td>0</td>\n",
       "      <td>0</td>\n",
       "      <td>0</td>\n",
       "      <td>0</td>\n",
       "    </tr>\n",
       "    <tr>\n",
       "      <th>900217</th>\n",
       "      <td>2010-01-08 15:52:13</td>\n",
       "      <td>AAB0162</td>\n",
       "      <td>PC-6599</td>\n",
       "      <td>http://cars.com/Byzantine_Empire/trebizond/Pve...</td>\n",
       "      <td>WWW Visit</td>\n",
       "      <td>Because of these concerns, the Geological Surv...</td>\n",
       "      <td>HardwareEngineer</td>\n",
       "      <td>Amos.Ahmed.Burch@dtaa.com</td>\n",
       "      <td>3 - SoftwareManagement</td>\n",
       "      <td>0</td>\n",
       "      <td>0</td>\n",
       "      <td>0</td>\n",
       "      <td>0</td>\n",
       "      <td>0</td>\n",
       "      <td>0</td>\n",
       "      <td>0</td>\n",
       "      <td>0</td>\n",
       "      <td>0</td>\n",
       "    </tr>\n",
       "  </tbody>\n",
       "</table>\n",
       "</div>"
      ],
      "text/plain": [
       "                      date     user       pc  \\\n",
       "900266 2010-01-05 08:07:22  AAB0162  PC-6599   \n",
       "900251 2010-01-05 12:31:17  AAB0162  PC-6599   \n",
       "900107 2010-01-07 10:11:00  AAB0162  PC-6599   \n",
       "900305 2010-01-07 13:13:25  AAB0162  PC-6599   \n",
       "900217 2010-01-08 15:52:13  AAB0162  PC-6599   \n",
       "\n",
       "                                                      url   activity  \\\n",
       "900266  http://myspace.com/Mozart_family_grand_tour/za...  WWW Visit   \n",
       "900251  http://chase.com/Ediacara_biota/ediacara/Senax...  WWW Visit   \n",
       "900107  http://lockerz.com/Choe_Bu/ningbo/Rzzryvar_Cna...  WWW Visit   \n",
       "900305  http://mtv.com/Anna_of_East_Anglia/jurmin/Puvy...  WWW Visit   \n",
       "900217  http://cars.com/Byzantine_Empire/trebizond/Pve...  WWW Visit   \n",
       "\n",
       "                                                  content              role  \\\n",
       "900266  One obvious difference between the types is th...  HardwareEngineer   \n",
       "900251  Sinnock died in May 1947, before finishing the...  HardwareEngineer   \n",
       "900107  Though it has been praised as \"one of the few ...  HardwareEngineer   \n",
       "900305  While Almirante Latorre was individually more ...  HardwareEngineer   \n",
       "900217  Because of these concerns, the Geological Surv...  HardwareEngineer   \n",
       "\n",
       "                            email              department  wikileaks_flag  \\\n",
       "900266  Amos.Ahmed.Burch@dtaa.com  3 - SoftwareManagement               0   \n",
       "900251  Amos.Ahmed.Burch@dtaa.com  3 - SoftwareManagement               0   \n",
       "900107  Amos.Ahmed.Burch@dtaa.com  3 - SoftwareManagement               0   \n",
       "900305  Amos.Ahmed.Burch@dtaa.com  3 - SoftwareManagement               0   \n",
       "900217  Amos.Ahmed.Burch@dtaa.com  3 - SoftwareManagement               0   \n",
       "\n",
       "        julian_flag  assange_flag  jobsearch_flag  linkedin_flag  \\\n",
       "900266            0             0               0              0   \n",
       "900251            0             0               0              0   \n",
       "900107            0             0               0              0   \n",
       "900305            0             0               0              0   \n",
       "900217            0             0               0              0   \n",
       "\n",
       "        indeed.com_flag  keylogger_flag  dropbox_flag  monstor_flag  \n",
       "900266                0               0             0             0  \n",
       "900251                0               0             0             0  \n",
       "900107                0               0             0             0  \n",
       "900305                0               0             0             0  \n",
       "900217                0               0             0             0  "
      ]
     },
     "execution_count": 5,
     "metadata": {},
     "output_type": "execute_result"
    }
   ],
   "source": [
    "# List of sensitive keywords to check\n",
    "sensitive_keywords = ['wikileaks', 'julian', 'assange', 'jobsearch', 'linkedin', 'indeed.com', 'keylogger', 'dropbox', 'monstor']\n",
    "\n",
    "# Initialize a dictionary to store the counts\n",
    "keyword_counts = {}\n",
    "\n",
    "# Check for each keyword in the URL and content columns\n",
    "for keyword in sensitive_keywords:\n",
    "    keyword_count = df_http_user['url'].str.contains(keyword, case=False).sum()\n",
    "    keyword_counts[keyword] = keyword_count\n",
    "\n",
    "# Display the counts\n",
    "print(\"Number of instances containing sensitive keywords:\")\n",
    "for keyword, count in keyword_counts.items():\n",
    "    print(f\"{keyword}: {count}\")\n",
    "\n",
    "# Add binary flags for each sensitive keyword\n",
    "for keyword in sensitive_keywords:\n",
    "    df_http_user[f\"{keyword}_flag\"] = df_http_user['url'].str.contains(keyword, case=False).astype(int)\n",
    "\n",
    "# Show the first few rows to confirm the new features\n",
    "df_http_user.head()"
   ]
  },
  {
   "cell_type": "code",
   "execution_count": 11,
   "metadata": {},
   "outputs": [],
   "source": [
    "df_http_user.drop(['monstor_flag'], axis=1, inplace=True)"
   ]
  },
  {
   "cell_type": "code",
   "execution_count": 6,
   "metadata": {},
   "outputs": [
    {
     "name": "stdout",
     "output_type": "stream",
     "text": [
      "4000\n"
     ]
    }
   ],
   "source": [
    "unique_users = df_http_user['user'].nunique()\n",
    "print(unique_users)"
   ]
  },
  {
   "cell_type": "code",
   "execution_count": 12,
   "metadata": {},
   "outputs": [
    {
     "name": "stdout",
     "output_type": "stream",
     "text": [
      "           user  wikileaks_flag  assange_flag  keylogger_flag\n",
      "900266  AAB0162               0             0               0\n",
      "900251  AAB0162               0             0               0\n",
      "900107  AAB0162               0             0               0\n",
      "900305  AAB0162               0             0               0\n",
      "900217  AAB0162               0             0               0\n"
     ]
    }
   ],
   "source": [
    "print(df_http_user.head())"
   ]
  },
  {
   "cell_type": "code",
   "execution_count": 27,
   "metadata": {},
   "outputs": [],
   "source": [
    "df_http_user.to_csv(r'E:\\Dataset\\Computer Emergency Response Team (CERT) r6.2\\\\r6.2\\\\r6.2\\\\New folder\\\\combine\\\\df_http_user_features.csv', index=False)"
   ]
  },
  {
   "cell_type": "code",
   "execution_count": 10,
   "metadata": {},
   "outputs": [],
   "source": [
    "df_device.drop(['repeated_dir_flag', 'daily_frequency',], axis=1, inplace=True)"
   ]
  },
  {
   "cell_type": "code",
   "execution_count": 53,
   "metadata": {},
   "outputs": [
    {
     "ename": "NameError",
     "evalue": "name 'df_file_features' is not defined",
     "output_type": "error",
     "traceback": [
      "\u001b[1;31m---------------------------------------------------------------------------\u001b[0m",
      "\u001b[1;31mNameError\u001b[0m                                 Traceback (most recent call last)",
      "\u001b[1;32me:\\Dataset\\Computer Emergency Response Team (CERT) r6.2\\r6.2\\r6.2\\device_features.ipynb Cell 10\u001b[0m in \u001b[0;36m<module>\u001b[1;34m\u001b[0m\n\u001b[0;32m      <a href='vscode-notebook-cell:/e%3A/Dataset/Computer%20Emergency%20Response%20Team%20%28CERT%29%20r6.2/r6.2/r6.2/device_features.ipynb#X14sZmlsZQ%3D%3D?line=2'>3</a>\u001b[0m df_http_user_features \u001b[39m=\u001b[39m pd\u001b[39m.\u001b[39mread_csv(\u001b[39mr\u001b[39m\u001b[39m'\u001b[39m\u001b[39mE:\u001b[39m\u001b[39m\\\u001b[39m\u001b[39mDataset\u001b[39m\u001b[39m\\\u001b[39m\u001b[39mComputer Emergency Response Team (CERT) r6.2\u001b[39m\u001b[39m\\\\\u001b[39;00m\u001b[39mr6.2\u001b[39m\u001b[39m\\\\\u001b[39;00m\u001b[39mr6.2\u001b[39m\u001b[39m\\\\\u001b[39;00m\u001b[39mNew folder\u001b[39m\u001b[39m\\\\\u001b[39;00m\u001b[39mcombine\u001b[39m\u001b[39m\\\\\u001b[39;00m\u001b[39mdf_file_features.csv\u001b[39m\u001b[39m'\u001b[39m)\n\u001b[0;32m      <a href='vscode-notebook-cell:/e%3A/Dataset/Computer%20Emergency%20Response%20Team%20%28CERT%29%20r6.2/r6.2/r6.2/device_features.ipynb#X14sZmlsZQ%3D%3D?line=3'>4</a>\u001b[0m df_device_features \u001b[39m=\u001b[39m pd\u001b[39m.\u001b[39mread_csv(\u001b[39mr\u001b[39m\u001b[39m'\u001b[39m\u001b[39mE:\u001b[39m\u001b[39m\\\u001b[39m\u001b[39mDataset\u001b[39m\u001b[39m\\\u001b[39m\u001b[39mComputer Emergency Response Team (CERT) r6.2\u001b[39m\u001b[39m\\\\\u001b[39;00m\u001b[39mr6.2\u001b[39m\u001b[39m\\\\\u001b[39;00m\u001b[39mr6.2\u001b[39m\u001b[39m\\\\\u001b[39;00m\u001b[39mNew folder\u001b[39m\u001b[39m\\\\\u001b[39;00m\u001b[39mcombine\u001b[39m\u001b[39m\\\\\u001b[39;00m\u001b[39mdf_device_features.csv\u001b[39m\u001b[39m'\u001b[39m)\n\u001b[1;32m----> <a href='vscode-notebook-cell:/e%3A/Dataset/Computer%20Emergency%20Response%20Team%20%28CERT%29%20r6.2/r6.2/r6.2/device_features.ipynb#X14sZmlsZQ%3D%3D?line=5'>6</a>\u001b[0m merged_df \u001b[39m=\u001b[39m pd\u001b[39m.\u001b[39mmerge(df_file_features, df_device_features, on\u001b[39m=\u001b[39m\u001b[39m'\u001b[39m\u001b[39muser\u001b[39m\u001b[39m'\u001b[39m)\n\u001b[0;32m      <a href='vscode-notebook-cell:/e%3A/Dataset/Computer%20Emergency%20Response%20Team%20%28CERT%29%20r6.2/r6.2/r6.2/device_features.ipynb#X14sZmlsZQ%3D%3D?line=7'>8</a>\u001b[0m merged_df\u001b[39m.\u001b[39mto_csv(\u001b[39mr\u001b[39m\u001b[39m'\u001b[39m\u001b[39mE:\u001b[39m\u001b[39m\\\u001b[39m\u001b[39mDataset\u001b[39m\u001b[39m\\\u001b[39m\u001b[39mComputer Emergency Response Team (CERT) r6.2\u001b[39m\u001b[39m\\\u001b[39m\u001b[39mr6.2\u001b[39m\u001b[39m\\\u001b[39m\u001b[39mr6.2\u001b[39m\u001b[39m\\\u001b[39m\u001b[39mNew folder\u001b[39m\u001b[39m\\\u001b[39m\u001b[39mcombine\u001b[39m\u001b[39m\\\u001b[39m\u001b[39mmerged.csv\u001b[39m\u001b[39m'\u001b[39m, index\u001b[39m=\u001b[39m\u001b[39mFalse\u001b[39;00m)\n",
      "\u001b[1;31mNameError\u001b[0m: name 'df_file_features' is not defined"
     ]
    }
   ],
   "source": [
    "import pandas as pd\n",
    "\n",
    "df_http_user_features = pd.read_csv(r'E:\\Dataset\\Computer Emergency Response Team (CERT) r6.2\\\\r6.2\\\\r6.2\\\\New folder\\\\combine\\\\df_file_features.csv')\n",
    "df_device_features = pd.read_csv(r'E:\\Dataset\\Computer Emergency Response Team (CERT) r6.2\\\\r6.2\\\\r6.2\\\\New folder\\\\combine\\\\df_device_features.csv')\n",
    "\n",
    "merged_df = pd.merge(df_file_features, df_device_features, on='user')\n",
    "\n",
    "merged_df.to_csv(r'E:\\Dataset\\Computer Emergency Response Team (CERT) r6.2\\r6.2\\r6.2\\New folder\\combine\\merged.csv', index=False)\n"
   ]
  },
  {
   "cell_type": "code",
   "execution_count": null,
   "metadata": {},
   "outputs": [],
   "source": [
    "import pandas as pd\n",
    "\n",
    "df_http_user_features = pd.read_csv(r'E:\\Dataset\\Computer Emergency Response Team (CERT) r6.2\\r6.2\\r6.2\\New folder\\combine\\df_http_user_features.csv')\n",
    "df_device_features = pd.read_csv(r'E:\\Dataset\\Computer Emergency Response Team (CERT) r6.2\\r6.2\\r6.2\\New folder\\combine\\df_device_features.csv')\n",
    "\n",
    "merged_df = pd.merge(df_http_user_features, df_device_features, on='column_name')\n",
    "\n",
    "merged_df.to_csv(r'E:\\Dataset\\Computer Emergency Response Team (CERT) r6.2\\r6.2\\r6.2\\New folder\\combine\\merged_df.csv', index=False)\n"
   ]
  },
  {
   "cell_type": "code",
   "execution_count": 37,
   "metadata": {},
   "outputs": [],
   "source": [
    "# Import necessary libraries\n",
    "import pandas as pd\n",
    "\n",
    "# Load the dataset\n",
    "df_file = pd.read_csv('E:\\Dataset\\Computer Emergency Response Team (CERT) r6.2\\\\r6.2\\\\r6.2\\\\file.csv')"
   ]
  },
  {
   "cell_type": "code",
   "execution_count": 38,
   "metadata": {},
   "outputs": [
    {
     "name": "stdout",
     "output_type": "stream",
     "text": [
      "                         id                 date     user       pc  \\\n",
      "0  {F3E2-X3MV05YQ-3516SZDT}  01/02/2010 07:19:41  SDH2394  PC-5849   \n",
      "1  {I6N1-Z7VL92UY-8715ESKQ}  01/02/2010 07:21:30  SDH2394  PC-5849   \n",
      "2  {G4X5-J7MH70FV-8936QVSB}  01/02/2010 07:22:11  SDH2394  PC-5849   \n",
      "3  {M2M7-Z5ST21EU-6704NSKO}  01/02/2010 07:24:06  SDH2394  PC-5849   \n",
      "4  {R0A9-O9XB25PE-9236MALV}  01/02/2010 07:24:45  SDH2394  PC-5849   \n",
      "\n",
      "                  filename    activity  to_removable_media  \\\n",
      "0          R:\\60WBQE7S.doc   File Open               False   \n",
      "1          R:\\0VGILDW8.pdf  File Write                True   \n",
      "2          R:\\60WBQE7S.doc   File Copy               False   \n",
      "3  R:\\22B5gX4\\H8Y96RRE.doc  File Write                True   \n",
      "4  R:\\SDH2394\\7XRCV2N5.pdf   File Copy                True   \n",
      "\n",
      "   from_removable_media                                            content  \n",
      "0                  True  D0-CF-11-E0-A1-B1-1A-E1 Ernesztin's brother, L...  \n",
      "1                 False  25-50-44-46-2D ---- Bengali As do many other T...  \n",
      "2                  True  D0-CF-11-E0-A1-B1-1A-E1 Ernesztin's brother, L...  \n",
      "3                 False  D0-CF-11-E0-A1-B1-1A-E1 After the death of his...  \n",
      "4                 False  25-50-44-46-2D Although he restored some of th...  \n"
     ]
    }
   ],
   "source": [
    "print(df_file.head())"
   ]
  },
  {
   "cell_type": "code",
   "execution_count": 39,
   "metadata": {},
   "outputs": [],
   "source": [
    "# Sort by user and date for easier calculation\n",
    "df_file = df_file.sort_values(by=['user'])"
   ]
  },
  {
   "cell_type": "code",
   "execution_count": 42,
   "metadata": {},
   "outputs": [],
   "source": [
    "count = df_file['filename'].str.count('keylogger').sum()"
   ]
  },
  {
   "cell_type": "code",
   "execution_count": 43,
   "metadata": {},
   "outputs": [
    {
     "name": "stdout",
     "output_type": "stream",
     "text": [
      "2\n"
     ]
    }
   ],
   "source": [
    "print(count)"
   ]
  },
  {
   "cell_type": "code",
   "execution_count": 46,
   "metadata": {},
   "outputs": [
    {
     "name": "stdout",
     "output_type": "stream",
     "text": [
      "Number of instances containing sensitive keywords:\n",
      "keylogger: 2\n",
      "                               id                 date     user       pc  \\\n",
      "1249104  {Y7C3-W8TF72RO-3168NYSX}  11/04/2010 14:17:36  AAB0162  PC-6599   \n",
      "637131   {Z4E2-Y1QB01HF-4204OLKF}  06/04/2010 13:29:25  AAB0162  PC-6599   \n",
      "1525394  {N7E6-M4CW15AK-4277FLRM}  01/19/2011 14:36:56  AAB0162  PC-6599   \n",
      "763512   {X4V4-U6BF34CM-6405ZHQE}  07/07/2010 09:11:30  AAB0162  PC-6599   \n",
      "1076801  {Z1U9-S2UB94DS-6279HYTM}  09/22/2010 18:28:51  AAB0162  PC-6599   \n",
      "\n",
      "                        filename   activity  to_removable_media  \\\n",
      "1249104          C:\\ASMWXYUP.pdf  File Open               False   \n",
      "637131   C:\\AAB0162\\W6ZMQULS.doc  File Open               False   \n",
      "1525394          C:\\ASMWXYUP.pdf  File Open               False   \n",
      "763512   C:\\AAB0162\\W6ZMQULS.doc  File Open               False   \n",
      "1076801          C:\\ASMWXYUP.pdf  File Open               False   \n",
      "\n",
      "         from_removable_media  \\\n",
      "1249104                 False   \n",
      "637131                  False   \n",
      "1525394                 False   \n",
      "763512                  False   \n",
      "1076801                 False   \n",
      "\n",
      "                                                   content  keylogger_flag  \n",
      "1249104  25-50-44-46-2D If you look at the assassinatio...               0  \n",
      "637131   D0-CF-11-E0-A1-B1-1A-E1 The design was \"un-Eng...               0  \n",
      "1525394  25-50-44-46-2D If you look at the assassinatio...               0  \n",
      "763512   D0-CF-11-E0-A1-B1-1A-E1 The design was \"un-Eng...               0  \n",
      "1076801  25-50-44-46-2D If you look at the assassinatio...               0  \n"
     ]
    }
   ],
   "source": [
    "# List of sensitive keywords to check\n",
    "sensitive_keywords = ['keylogger']\n",
    "\n",
    "# Initialize a dictionary to store the counts\n",
    "keyword_counts = {}\n",
    "\n",
    "# Check for each keyword in the 'file' column\n",
    "for keyword in sensitive_keywords:\n",
    "    keyword_count = df_file['filename'].str.contains(keyword, case=False, na=False).sum()\n",
    "    keyword_counts[keyword] = keyword_count\n",
    "\n",
    "# Display the counts\n",
    "print(\"Number of instances containing sensitive keywords:\")\n",
    "for keyword, count in keyword_counts.items():\n",
    "    print(f\"{keyword}: {count}\")\n",
    "\n",
    "# Add binary flags for each sensitive keyword\n",
    "for keyword in sensitive_keywords:\n",
    "    df_file[f\"{keyword}_flag\"] = df_file['filename'].str.contains(keyword, case=False, na=False).astype(int)\n",
    "\n",
    "# Show the first few rows to confirm the new features\n",
    "print(df_file.head())\n"
   ]
  },
  {
   "cell_type": "code",
   "execution_count": 48,
   "metadata": {},
   "outputs": [],
   "source": [
    "df_file.drop(['id', 'date', 'pc', 'filename','activity','to_removable_media','from_removable_media', 'content'], axis=1, inplace=True)"
   ]
  },
  {
   "cell_type": "code",
   "execution_count": 49,
   "metadata": {},
   "outputs": [
    {
     "name": "stdout",
     "output_type": "stream",
     "text": [
      "            user  keylogger_flag\n",
      "1249104  AAB0162               0\n",
      "637131   AAB0162               0\n",
      "1525394  AAB0162               0\n",
      "763512   AAB0162               0\n",
      "1076801  AAB0162               0\n"
     ]
    }
   ],
   "source": [
    "print(df_file.head())"
   ]
  },
  {
   "cell_type": "code",
   "execution_count": 50,
   "metadata": {},
   "outputs": [],
   "source": [
    "df_file.to_csv(r'E:\\Dataset\\Computer Emergency Response Team (CERT) r6.2\\r6.2\\r6.2\\New folder\\combine\\df_file_features.csv', index=False)"
   ]
  },
  {
   "cell_type": "code",
   "execution_count": 55,
   "metadata": {},
   "outputs": [
    {
     "ename": "MemoryError",
     "evalue": "Unable to allocate 46.1 GiB for an array with shape (6181770214,) and data type int64",
     "output_type": "error",
     "traceback": [
      "\u001b[1;31m---------------------------------------------------------------------------\u001b[0m",
      "\u001b[1;31mMemoryError\u001b[0m                               Traceback (most recent call last)",
      "\u001b[1;32me:\\Dataset\\Computer Emergency Response Team (CERT) r6.2\\r6.2\\r6.2\\device_features.ipynb Cell 21\u001b[0m in \u001b[0;36m<module>\u001b[1;34m\u001b[0m\n\u001b[0;32m      <a href='vscode-notebook-cell:/e%3A/Dataset/Computer%20Emergency%20Response%20Team%20%28CERT%29%20r6.2/r6.2/r6.2/device_features.ipynb#X32sZmlsZQ%3D%3D?line=2'>3</a>\u001b[0m df_file_features \u001b[39m=\u001b[39m pd\u001b[39m.\u001b[39mread_csv(\u001b[39mr\u001b[39m\u001b[39m'\u001b[39m\u001b[39mE:\u001b[39m\u001b[39m\\\u001b[39m\u001b[39mDataset\u001b[39m\u001b[39m\\\u001b[39m\u001b[39mComputer Emergency Response Team (CERT) r6.2\u001b[39m\u001b[39m\\\\\u001b[39;00m\u001b[39mr6.2\u001b[39m\u001b[39m\\\\\u001b[39;00m\u001b[39mr6.2\u001b[39m\u001b[39m\\\\\u001b[39;00m\u001b[39mNew folder\u001b[39m\u001b[39m\\\\\u001b[39;00m\u001b[39mcombine\u001b[39m\u001b[39m\\\\\u001b[39;00m\u001b[39mdf_file_features.csv\u001b[39m\u001b[39m'\u001b[39m)\n\u001b[0;32m      <a href='vscode-notebook-cell:/e%3A/Dataset/Computer%20Emergency%20Response%20Team%20%28CERT%29%20r6.2/r6.2/r6.2/device_features.ipynb#X32sZmlsZQ%3D%3D?line=3'>4</a>\u001b[0m df_device_features \u001b[39m=\u001b[39m pd\u001b[39m.\u001b[39mread_csv(\u001b[39mr\u001b[39m\u001b[39m'\u001b[39m\u001b[39mE:\u001b[39m\u001b[39m\\\u001b[39m\u001b[39mDataset\u001b[39m\u001b[39m\\\u001b[39m\u001b[39mComputer Emergency Response Team (CERT) r6.2\u001b[39m\u001b[39m\\\\\u001b[39;00m\u001b[39mr6.2\u001b[39m\u001b[39m\\\\\u001b[39;00m\u001b[39mr6.2\u001b[39m\u001b[39m\\\\\u001b[39;00m\u001b[39mNew folder\u001b[39m\u001b[39m\\\\\u001b[39;00m\u001b[39mcombine\u001b[39m\u001b[39m\\\\\u001b[39;00m\u001b[39mdf_device_features.csv\u001b[39m\u001b[39m'\u001b[39m)\n\u001b[1;32m----> <a href='vscode-notebook-cell:/e%3A/Dataset/Computer%20Emergency%20Response%20Team%20%28CERT%29%20r6.2/r6.2/r6.2/device_features.ipynb#X32sZmlsZQ%3D%3D?line=5'>6</a>\u001b[0m merged_df \u001b[39m=\u001b[39m pd\u001b[39m.\u001b[39;49mmerge(df_file_features, df_device_features, on\u001b[39m=\u001b[39;49m\u001b[39m'\u001b[39;49m\u001b[39muser\u001b[39;49m\u001b[39m'\u001b[39;49m)\n\u001b[0;32m      <a href='vscode-notebook-cell:/e%3A/Dataset/Computer%20Emergency%20Response%20Team%20%28CERT%29%20r6.2/r6.2/r6.2/device_features.ipynb#X32sZmlsZQ%3D%3D?line=7'>8</a>\u001b[0m merged_df\u001b[39m.\u001b[39mto_csv(\u001b[39mr\u001b[39m\u001b[39m'\u001b[39m\u001b[39mE:\u001b[39m\u001b[39m\\\u001b[39m\u001b[39mDataset\u001b[39m\u001b[39m\\\u001b[39m\u001b[39mComputer Emergency Response Team (CERT) r6.2\u001b[39m\u001b[39m\\\u001b[39m\u001b[39mr6.2\u001b[39m\u001b[39m\\\u001b[39m\u001b[39mr6.2\u001b[39m\u001b[39m\\\u001b[39m\u001b[39mNew folder\u001b[39m\u001b[39m\\\u001b[39m\u001b[39mcombine\u001b[39m\u001b[39m\\\u001b[39m\u001b[39mmerged.csv\u001b[39m\u001b[39m'\u001b[39m, index\u001b[39m=\u001b[39m\u001b[39mFalse\u001b[39;00m)\n",
      "File \u001b[1;32mc:\\Users\\vinal\\AppData\\Local\\Programs\\Python\\Python310\\lib\\site-packages\\pandas\\core\\reshape\\merge.py:122\u001b[0m, in \u001b[0;36mmerge\u001b[1;34m(left, right, how, on, left_on, right_on, left_index, right_index, sort, suffixes, copy, indicator, validate)\u001b[0m\n\u001b[0;32m     90\u001b[0m \u001b[39m@Substitution\u001b[39m(\u001b[39m\"\u001b[39m\u001b[39m\\n\u001b[39;00m\u001b[39mleft : DataFrame or named Series\u001b[39m\u001b[39m\"\u001b[39m)\n\u001b[0;32m     91\u001b[0m \u001b[39m@Appender\u001b[39m(_merge_doc, indents\u001b[39m=\u001b[39m\u001b[39m0\u001b[39m)\n\u001b[0;32m     92\u001b[0m \u001b[39mdef\u001b[39;00m \u001b[39mmerge\u001b[39m(\n\u001b[1;32m   (...)\u001b[0m\n\u001b[0;32m    105\u001b[0m     validate: \u001b[39mstr\u001b[39m \u001b[39m|\u001b[39m \u001b[39mNone\u001b[39;00m \u001b[39m=\u001b[39m \u001b[39mNone\u001b[39;00m,\n\u001b[0;32m    106\u001b[0m ) \u001b[39m-\u001b[39m\u001b[39m>\u001b[39m DataFrame:\n\u001b[0;32m    107\u001b[0m     op \u001b[39m=\u001b[39m _MergeOperation(\n\u001b[0;32m    108\u001b[0m         left,\n\u001b[0;32m    109\u001b[0m         right,\n\u001b[1;32m   (...)\u001b[0m\n\u001b[0;32m    120\u001b[0m         validate\u001b[39m=\u001b[39mvalidate,\n\u001b[0;32m    121\u001b[0m     )\n\u001b[1;32m--> 122\u001b[0m     \u001b[39mreturn\u001b[39;00m op\u001b[39m.\u001b[39;49mget_result()\n",
      "File \u001b[1;32mc:\\Users\\vinal\\AppData\\Local\\Programs\\Python\\Python310\\lib\\site-packages\\pandas\\core\\reshape\\merge.py:716\u001b[0m, in \u001b[0;36m_MergeOperation.get_result\u001b[1;34m(self)\u001b[0m\n\u001b[0;32m    713\u001b[0m \u001b[39mif\u001b[39;00m \u001b[39mself\u001b[39m\u001b[39m.\u001b[39mindicator:\n\u001b[0;32m    714\u001b[0m     \u001b[39mself\u001b[39m\u001b[39m.\u001b[39mleft, \u001b[39mself\u001b[39m\u001b[39m.\u001b[39mright \u001b[39m=\u001b[39m \u001b[39mself\u001b[39m\u001b[39m.\u001b[39m_indicator_pre_merge(\u001b[39mself\u001b[39m\u001b[39m.\u001b[39mleft, \u001b[39mself\u001b[39m\u001b[39m.\u001b[39mright)\n\u001b[1;32m--> 716\u001b[0m join_index, left_indexer, right_indexer \u001b[39m=\u001b[39m \u001b[39mself\u001b[39;49m\u001b[39m.\u001b[39;49m_get_join_info()\n\u001b[0;32m    718\u001b[0m llabels, rlabels \u001b[39m=\u001b[39m _items_overlap_with_suffix(\n\u001b[0;32m    719\u001b[0m     \u001b[39mself\u001b[39m\u001b[39m.\u001b[39mleft\u001b[39m.\u001b[39m_info_axis, \u001b[39mself\u001b[39m\u001b[39m.\u001b[39mright\u001b[39m.\u001b[39m_info_axis, \u001b[39mself\u001b[39m\u001b[39m.\u001b[39msuffixes\n\u001b[0;32m    720\u001b[0m )\n\u001b[0;32m    722\u001b[0m lindexers \u001b[39m=\u001b[39m {\u001b[39m1\u001b[39m: left_indexer} \u001b[39mif\u001b[39;00m left_indexer \u001b[39mis\u001b[39;00m \u001b[39mnot\u001b[39;00m \u001b[39mNone\u001b[39;00m \u001b[39melse\u001b[39;00m {}\n",
      "File \u001b[1;32mc:\\Users\\vinal\\AppData\\Local\\Programs\\Python\\Python310\\lib\\site-packages\\pandas\\core\\reshape\\merge.py:967\u001b[0m, in \u001b[0;36m_MergeOperation._get_join_info\u001b[1;34m(self)\u001b[0m\n\u001b[0;32m    963\u001b[0m     join_index, right_indexer, left_indexer \u001b[39m=\u001b[39m _left_join_on_index(\n\u001b[0;32m    964\u001b[0m         right_ax, left_ax, \u001b[39mself\u001b[39m\u001b[39m.\u001b[39mright_join_keys, sort\u001b[39m=\u001b[39m\u001b[39mself\u001b[39m\u001b[39m.\u001b[39msort\n\u001b[0;32m    965\u001b[0m     )\n\u001b[0;32m    966\u001b[0m \u001b[39melse\u001b[39;00m:\n\u001b[1;32m--> 967\u001b[0m     (left_indexer, right_indexer) \u001b[39m=\u001b[39m \u001b[39mself\u001b[39;49m\u001b[39m.\u001b[39;49m_get_join_indexers()\n\u001b[0;32m    969\u001b[0m     \u001b[39mif\u001b[39;00m \u001b[39mself\u001b[39m\u001b[39m.\u001b[39mright_index:\n\u001b[0;32m    970\u001b[0m         \u001b[39mif\u001b[39;00m \u001b[39mlen\u001b[39m(\u001b[39mself\u001b[39m\u001b[39m.\u001b[39mleft) \u001b[39m>\u001b[39m \u001b[39m0\u001b[39m:\n",
      "File \u001b[1;32mc:\\Users\\vinal\\AppData\\Local\\Programs\\Python\\Python310\\lib\\site-packages\\pandas\\core\\reshape\\merge.py:941\u001b[0m, in \u001b[0;36m_MergeOperation._get_join_indexers\u001b[1;34m(self)\u001b[0m\n\u001b[0;32m    939\u001b[0m \u001b[39mdef\u001b[39;00m \u001b[39m_get_join_indexers\u001b[39m(\u001b[39mself\u001b[39m) \u001b[39m-\u001b[39m\u001b[39m>\u001b[39m \u001b[39mtuple\u001b[39m[npt\u001b[39m.\u001b[39mNDArray[np\u001b[39m.\u001b[39mintp], npt\u001b[39m.\u001b[39mNDArray[np\u001b[39m.\u001b[39mintp]]:\n\u001b[0;32m    940\u001b[0m     \u001b[39m\"\"\"return the join indexers\"\"\"\u001b[39;00m\n\u001b[1;32m--> 941\u001b[0m     \u001b[39mreturn\u001b[39;00m get_join_indexers(\n\u001b[0;32m    942\u001b[0m         \u001b[39mself\u001b[39;49m\u001b[39m.\u001b[39;49mleft_join_keys, \u001b[39mself\u001b[39;49m\u001b[39m.\u001b[39;49mright_join_keys, sort\u001b[39m=\u001b[39;49m\u001b[39mself\u001b[39;49m\u001b[39m.\u001b[39;49msort, how\u001b[39m=\u001b[39;49m\u001b[39mself\u001b[39;49m\u001b[39m.\u001b[39;49mhow\n\u001b[0;32m    943\u001b[0m     )\n",
      "File \u001b[1;32mc:\\Users\\vinal\\AppData\\Local\\Programs\\Python\\Python310\\lib\\site-packages\\pandas\\core\\reshape\\merge.py:1509\u001b[0m, in \u001b[0;36mget_join_indexers\u001b[1;34m(left_keys, right_keys, sort, how, **kwargs)\u001b[0m\n\u001b[0;32m   1499\u001b[0m join_func \u001b[39m=\u001b[39m {\n\u001b[0;32m   1500\u001b[0m     \u001b[39m\"\u001b[39m\u001b[39minner\u001b[39m\u001b[39m\"\u001b[39m: libjoin\u001b[39m.\u001b[39minner_join,\n\u001b[0;32m   1501\u001b[0m     \u001b[39m\"\u001b[39m\u001b[39mleft\u001b[39m\u001b[39m\"\u001b[39m: libjoin\u001b[39m.\u001b[39mleft_outer_join,\n\u001b[1;32m   (...)\u001b[0m\n\u001b[0;32m   1505\u001b[0m     \u001b[39m\"\u001b[39m\u001b[39mouter\u001b[39m\u001b[39m\"\u001b[39m: libjoin\u001b[39m.\u001b[39mfull_outer_join,\n\u001b[0;32m   1506\u001b[0m }[how]\n\u001b[0;32m   1508\u001b[0m \u001b[39m# error: Cannot call function of unknown type\u001b[39;00m\n\u001b[1;32m-> 1509\u001b[0m \u001b[39mreturn\u001b[39;00m join_func(lkey, rkey, count, \u001b[39m*\u001b[39m\u001b[39m*\u001b[39mkwargs)\n",
      "File \u001b[1;32mc:\\Users\\vinal\\AppData\\Local\\Programs\\Python\\Python310\\lib\\site-packages\\pandas\\_libs\\join.pyx:48\u001b[0m, in \u001b[0;36mpandas._libs.join.inner_join\u001b[1;34m()\u001b[0m\n",
      "\u001b[1;31mMemoryError\u001b[0m: Unable to allocate 46.1 GiB for an array with shape (6181770214,) and data type int64"
     ]
    }
   ],
   "source": [
    "import pandas as pd\n",
    "\n",
    "df_file_features = pd.read_csv(r'E:\\Dataset\\Computer Emergency Response Team (CERT) r6.2\\\\r6.2\\\\r6.2\\\\New folder\\\\combine\\\\df_file_features.csv')\n",
    "df_device_features = pd.read_csv(r'E:\\Dataset\\Computer Emergency Response Team (CERT) r6.2\\\\r6.2\\\\r6.2\\\\New folder\\\\combine\\\\df_device_features.csv')\n",
    "\n",
    "merged_df = pd.merge(df_file_features, df_device_features, on='user')\n",
    "\n",
    "merged_df.to_csv(r'E:\\Dataset\\Computer Emergency Response Team (CERT) r6.2\\r6.2\\r6.2\\New folder\\combine\\merged.csv', index=False)\n"
   ]
  }
 ],
 "metadata": {
  "kernelspec": {
   "display_name": "Python 3",
   "language": "python",
   "name": "python3"
  },
  "language_info": {
   "codemirror_mode": {
    "name": "ipython",
    "version": 3
   },
   "file_extension": ".py",
   "mimetype": "text/x-python",
   "name": "python",
   "nbconvert_exporter": "python",
   "pygments_lexer": "ipython3",
   "version": "3.10.2"
  },
  "orig_nbformat": 4
 },
 "nbformat": 4,
 "nbformat_minor": 2
}
