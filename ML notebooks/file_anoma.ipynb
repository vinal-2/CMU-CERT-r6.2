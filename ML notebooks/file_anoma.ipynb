{
  "nbformat": 4,
  "nbformat_minor": 0,
  "metadata": {
    "colab": {
      "provenance": []
    },
    "kernelspec": {
      "name": "python3",
      "display_name": "Python 3"
    },
    "language_info": {
      "name": "python"
    }
  },
  "cells": [
    {
      "cell_type": "code",
      "source": [
        "import pandas as pd\n",
        "import matplotlib.pyplot as plt\n",
        "import seaborn as sns\n",
        "from sklearn.preprocessing import LabelEncoder\n",
        "from sklearn.ensemble import IsolationForest"
      ],
      "metadata": {
        "id": "MTPSzZVjcjUJ"
      },
      "execution_count": 22,
      "outputs": []
    },
    {
      "cell_type": "code",
      "execution_count": 1,
      "metadata": {
        "id": "0U8oOGyEv0WT",
        "colab": {
          "base_uri": "https://localhost:8080/"
        },
        "outputId": "ca6ecb9e-142a-4df5-fdc0-21933c73c813"
      },
      "outputs": [
        {
          "output_type": "stream",
          "name": "stdout",
          "text": [
            "Mounted at /content/drive\n"
          ]
        }
      ],
      "source": [
        "\n",
        "from google.colab import drive\n",
        "drive.mount('/content/drive')"
      ]
    },
    {
      "cell_type": "code",
      "source": [
        "import pandas as pd\n",
        "import os\n",
        "file_path = '/content/drive/MyDrive'\n",
        "print(os.listdir(file_path))"
      ],
      "metadata": {
        "colab": {
          "base_uri": "https://localhost:8080/"
        },
        "id": "qPuKgJEHZwXZ",
        "outputId": "edb6518d-39d7-4d9a-e4b6-d6e7ec292155"
      },
      "execution_count": 2,
      "outputs": [
        {
          "output_type": "stream",
          "name": "stdout",
          "text": [
            "['Chapter 02.pdf', 'Untitled document (4).gdoc', 'Scanned_20170215-2334.pdf', 'Untitled document (3).gdoc', 'itc.gdoc', 'Untitled document (2).gdoc', 'statement (Autosaved).xlsx', 'AP Practical (VIVA).pdf', 'Omega.xlsx', 'Pp Watch.xlsx', 'Statement Revised.xlsx', 'jumping-math (1).pdf', 'learn-months-year.pdf', 'hour-telling-time-kim-kangaroo.pdf', 'practice-test-counting-money.pdf', 'greater-than-less-than-equal-to-1 (1).pdf', 'practice-test-word-problems1.pdf', 'Scan 4 Sep, 20-58.pdf', 'statement (Autosaved).gsheet', 'EXAMINATION SCHEDULE FALL_2018_29-JAN-2019.pdf', 'Untitled folder', 'imgtopdf_generated_0202191827032.pdf', 'imgtopdf_generated_0202191824002.pdf', 'imgtopdf_generated_0202191829051.pdf', 'imgtopdf_generated_0202191825017.pdf', 'record.xlsx', 'watches', 'Colab Notebooks', 'Untitled0.ipynb', 'Copy of Omega.xlsx', '15793475341544766204324108476047.jpg', 'EL-16106 (1).docx', 'Copy of SA P1: Prepare to Market Project Template.gslides', 'eps.gsheet', 'Tag 1.xlsx', 'owais-bashir-cv.pdf', 'Owais Cover letter.pdf', 'HEroku.gdoc', 'rnd-1.gdoc', 'kiva.ipynb.gdoc', 'test-1.gdoc', 'test-2.gdoc', 'Classroom', 'owais-cv.pdf', 'CamScanner 02-12-2021 17.09.pdf', '3qs.gdoc', '15793475181422274147509870435194.jpg', 'NumPy-3rd-Edition.pdf', 'Learning pandas.pdf', 'methods.json', 'systemtables.json', 'Sample_schema.json', 'Lyftrondata_drift_schema.json', 'paypal_schema.json', 'AutomatedSchema.py', 'Lyftrondata_base_schema.json', 'parsers', 'schemas', 'owais_cv.pdf', 'Spark Watches Record.gsheet', 'watch review', 'alzheimer-mri-dataset.zip', 'march22 (2).xlsx', 'march22 (1).xlsx', 'march22.xlsx', 'Untitled spreadsheet (3).gsheet', 'April22.gsheet', 'sohail sheet.gsheet', 'May22.gsheet', 'June 22.gsheet', 'Watch', 'dev', 'sept22.gsheet', 'owaiscv.doc', 'july22.gsheet', 'hisab.gsheet', 'owaiscv.docx', 'cover letter.gdoc', 'Owais CV.docx', 'Cover Letter.gdoc', 'Global Radiative Forcing - 1979-2021.xlsx', 'US_births_1994-2014.csv', 'US_births_1994-2014.gsheet', 'How common is your birthday.gdoc', 'SHP Payment Info.pdf', 'SHP Payment Info (1).gdoc', 'SHP Payment Info.gdoc', 'Covid-Publication-06-04-2021-up-to-200731-DQnotes.xlsx', 'Untitled spreadsheet (2).gsheet', 'tableau files', 'Untitled document (1).gdoc', 'Data visualization (Research paper).gdoc', 'Untitled document.gdoc', 'Activities Overview 2021.gdoc', 'datsets', 'Research paper: Visualization methodology of power consumption in homes.gdoc', 'Final report.gdoc', 'Prac_3-1_-_ANFIS[1].pptx', 'Ovais Bashir.docx', 'aug22.gsheet', 'asad_ke_farmaish.csv', 'assignment_final.twb', 'reports submitted ms', 'assignment- db for large data set.docx', 'Literature review (M.L).docx', 'LR report.docx', 'uk imp stuff', 'watches uk.gsheet', 'OOP class 3 (nbi-iuzr-szx - Jun 19, 2023).gjam', 'Untitled spreadsheet (1).gsheet', 'Dataset', 'Untitled spreadsheet.gsheet', 'jobs applied.gsheet', 'new watches uk 23.gsheet', 'Copy of email.csv', 'Copy of logon.csv', 'logon_upd.csv', 'logon_results.csv', 'Copy of device.csv', 'device_results.csv', 'email_upd.csv']\n"
          ]
        }
      ]
    },
    {
      "cell_type": "code",
      "source": [
        "file=pd.read_csv(file_path+'/'+'Copy of file.csv')"
      ],
      "metadata": {
        "id": "ViMD9aK7aG24"
      },
      "execution_count": 3,
      "outputs": []
    },
    {
      "cell_type": "code",
      "source": [],
      "metadata": {
        "id": "W7Zl3Poxat01"
      },
      "execution_count": null,
      "outputs": []
    },
    {
      "cell_type": "code",
      "source": [
        "file['date']=pd.to_datetime(file['date'])"
      ],
      "metadata": {
        "id": "u6KNpqHOZ_Md"
      },
      "execution_count": 4,
      "outputs": []
    },
    {
      "cell_type": "code",
      "source": [
        "file['day']=file['date'].dt.strftime('%A')"
      ],
      "metadata": {
        "id": "WvdfC29Wa1SN"
      },
      "execution_count": 6,
      "outputs": []
    },
    {
      "cell_type": "code",
      "source": [
        "file['month'] = file['date'].dt.month"
      ],
      "metadata": {
        "id": "UQmAuKz2biw4"
      },
      "execution_count": 8,
      "outputs": []
    },
    {
      "cell_type": "code",
      "source": [
        "file['year'] = file['date'].dt.year"
      ],
      "metadata": {
        "id": "nHC5nNsxbqIa"
      },
      "execution_count": 10,
      "outputs": []
    },
    {
      "cell_type": "code",
      "source": [
        "file['hour'] = file['date'].dt.hour"
      ],
      "metadata": {
        "id": "7tYOgh_1buyR"
      },
      "execution_count": 11,
      "outputs": []
    },
    {
      "cell_type": "code",
      "source": [
        "file.head()"
      ],
      "metadata": {
        "colab": {
          "base_uri": "https://localhost:8080/",
          "height": 660
        },
        "id": "jNijj2qbb4Sb",
        "outputId": "79a5a7a6-4fe2-442a-f8a4-8dd0ac28df25"
      },
      "execution_count": 12,
      "outputs": [
        {
          "output_type": "execute_result",
          "data": {
            "text/plain": [
              "                         id                date     user       pc  \\\n",
              "0  {F3E2-X3MV05YQ-3516SZDT} 2010-01-02 07:19:41  SDH2394  PC-5849   \n",
              "1  {I6N1-Z7VL92UY-8715ESKQ} 2010-01-02 07:21:30  SDH2394  PC-5849   \n",
              "2  {G4X5-J7MH70FV-8936QVSB} 2010-01-02 07:22:11  SDH2394  PC-5849   \n",
              "3  {M2M7-Z5ST21EU-6704NSKO} 2010-01-02 07:24:06  SDH2394  PC-5849   \n",
              "4  {R0A9-O9XB25PE-9236MALV} 2010-01-02 07:24:45  SDH2394  PC-5849   \n",
              "\n",
              "                  filename    activity  to_removable_media  \\\n",
              "0          R:\\60WBQE7S.doc   File Open               False   \n",
              "1          R:\\0VGILDW8.pdf  File Write                True   \n",
              "2          R:\\60WBQE7S.doc   File Copy               False   \n",
              "3  R:\\22B5gX4\\H8Y96RRE.doc  File Write                True   \n",
              "4  R:\\SDH2394\\7XRCV2N5.pdf   File Copy                True   \n",
              "\n",
              "   from_removable_media                                            content  \\\n",
              "0                  True  D0-CF-11-E0-A1-B1-1A-E1 Ernesztin's brother, L...   \n",
              "1                 False  25-50-44-46-2D ---- Bengali As do many other T...   \n",
              "2                  True  D0-CF-11-E0-A1-B1-1A-E1 Ernesztin's brother, L...   \n",
              "3                 False  D0-CF-11-E0-A1-B1-1A-E1 After the death of his...   \n",
              "4                 False  25-50-44-46-2D Although he restored some of th...   \n",
              "\n",
              "        day  month  year  hour  \n",
              "0  Saturday      1  2010     7  \n",
              "1  Saturday      1  2010     7  \n",
              "2  Saturday      1  2010     7  \n",
              "3  Saturday      1  2010     7  \n",
              "4  Saturday      1  2010     7  "
            ],
            "text/html": [
              "\n",
              "  <div id=\"df-a0532d78-527c-4c93-b18e-7445869d9b5b\" class=\"colab-df-container\">\n",
              "    <div>\n",
              "<style scoped>\n",
              "    .dataframe tbody tr th:only-of-type {\n",
              "        vertical-align: middle;\n",
              "    }\n",
              "\n",
              "    .dataframe tbody tr th {\n",
              "        vertical-align: top;\n",
              "    }\n",
              "\n",
              "    .dataframe thead th {\n",
              "        text-align: right;\n",
              "    }\n",
              "</style>\n",
              "<table border=\"1\" class=\"dataframe\">\n",
              "  <thead>\n",
              "    <tr style=\"text-align: right;\">\n",
              "      <th></th>\n",
              "      <th>id</th>\n",
              "      <th>date</th>\n",
              "      <th>user</th>\n",
              "      <th>pc</th>\n",
              "      <th>filename</th>\n",
              "      <th>activity</th>\n",
              "      <th>to_removable_media</th>\n",
              "      <th>from_removable_media</th>\n",
              "      <th>content</th>\n",
              "      <th>day</th>\n",
              "      <th>month</th>\n",
              "      <th>year</th>\n",
              "      <th>hour</th>\n",
              "    </tr>\n",
              "  </thead>\n",
              "  <tbody>\n",
              "    <tr>\n",
              "      <th>0</th>\n",
              "      <td>{F3E2-X3MV05YQ-3516SZDT}</td>\n",
              "      <td>2010-01-02 07:19:41</td>\n",
              "      <td>SDH2394</td>\n",
              "      <td>PC-5849</td>\n",
              "      <td>R:\\60WBQE7S.doc</td>\n",
              "      <td>File Open</td>\n",
              "      <td>False</td>\n",
              "      <td>True</td>\n",
              "      <td>D0-CF-11-E0-A1-B1-1A-E1 Ernesztin's brother, L...</td>\n",
              "      <td>Saturday</td>\n",
              "      <td>1</td>\n",
              "      <td>2010</td>\n",
              "      <td>7</td>\n",
              "    </tr>\n",
              "    <tr>\n",
              "      <th>1</th>\n",
              "      <td>{I6N1-Z7VL92UY-8715ESKQ}</td>\n",
              "      <td>2010-01-02 07:21:30</td>\n",
              "      <td>SDH2394</td>\n",
              "      <td>PC-5849</td>\n",
              "      <td>R:\\0VGILDW8.pdf</td>\n",
              "      <td>File Write</td>\n",
              "      <td>True</td>\n",
              "      <td>False</td>\n",
              "      <td>25-50-44-46-2D ---- Bengali As do many other T...</td>\n",
              "      <td>Saturday</td>\n",
              "      <td>1</td>\n",
              "      <td>2010</td>\n",
              "      <td>7</td>\n",
              "    </tr>\n",
              "    <tr>\n",
              "      <th>2</th>\n",
              "      <td>{G4X5-J7MH70FV-8936QVSB}</td>\n",
              "      <td>2010-01-02 07:22:11</td>\n",
              "      <td>SDH2394</td>\n",
              "      <td>PC-5849</td>\n",
              "      <td>R:\\60WBQE7S.doc</td>\n",
              "      <td>File Copy</td>\n",
              "      <td>False</td>\n",
              "      <td>True</td>\n",
              "      <td>D0-CF-11-E0-A1-B1-1A-E1 Ernesztin's brother, L...</td>\n",
              "      <td>Saturday</td>\n",
              "      <td>1</td>\n",
              "      <td>2010</td>\n",
              "      <td>7</td>\n",
              "    </tr>\n",
              "    <tr>\n",
              "      <th>3</th>\n",
              "      <td>{M2M7-Z5ST21EU-6704NSKO}</td>\n",
              "      <td>2010-01-02 07:24:06</td>\n",
              "      <td>SDH2394</td>\n",
              "      <td>PC-5849</td>\n",
              "      <td>R:\\22B5gX4\\H8Y96RRE.doc</td>\n",
              "      <td>File Write</td>\n",
              "      <td>True</td>\n",
              "      <td>False</td>\n",
              "      <td>D0-CF-11-E0-A1-B1-1A-E1 After the death of his...</td>\n",
              "      <td>Saturday</td>\n",
              "      <td>1</td>\n",
              "      <td>2010</td>\n",
              "      <td>7</td>\n",
              "    </tr>\n",
              "    <tr>\n",
              "      <th>4</th>\n",
              "      <td>{R0A9-O9XB25PE-9236MALV}</td>\n",
              "      <td>2010-01-02 07:24:45</td>\n",
              "      <td>SDH2394</td>\n",
              "      <td>PC-5849</td>\n",
              "      <td>R:\\SDH2394\\7XRCV2N5.pdf</td>\n",
              "      <td>File Copy</td>\n",
              "      <td>True</td>\n",
              "      <td>False</td>\n",
              "      <td>25-50-44-46-2D Although he restored some of th...</td>\n",
              "      <td>Saturday</td>\n",
              "      <td>1</td>\n",
              "      <td>2010</td>\n",
              "      <td>7</td>\n",
              "    </tr>\n",
              "  </tbody>\n",
              "</table>\n",
              "</div>\n",
              "    <div class=\"colab-df-buttons\">\n",
              "\n",
              "  <div class=\"colab-df-container\">\n",
              "    <button class=\"colab-df-convert\" onclick=\"convertToInteractive('df-a0532d78-527c-4c93-b18e-7445869d9b5b')\"\n",
              "            title=\"Convert this dataframe to an interactive table.\"\n",
              "            style=\"display:none;\">\n",
              "\n",
              "  <svg xmlns=\"http://www.w3.org/2000/svg\" height=\"24px\" viewBox=\"0 -960 960 960\">\n",
              "    <path d=\"M120-120v-720h720v720H120Zm60-500h600v-160H180v160Zm220 220h160v-160H400v160Zm0 220h160v-160H400v160ZM180-400h160v-160H180v160Zm440 0h160v-160H620v160ZM180-180h160v-160H180v160Zm440 0h160v-160H620v160Z\"/>\n",
              "  </svg>\n",
              "    </button>\n",
              "\n",
              "  <style>\n",
              "    .colab-df-container {\n",
              "      display:flex;\n",
              "      gap: 12px;\n",
              "    }\n",
              "\n",
              "    .colab-df-convert {\n",
              "      background-color: #E8F0FE;\n",
              "      border: none;\n",
              "      border-radius: 50%;\n",
              "      cursor: pointer;\n",
              "      display: none;\n",
              "      fill: #1967D2;\n",
              "      height: 32px;\n",
              "      padding: 0 0 0 0;\n",
              "      width: 32px;\n",
              "    }\n",
              "\n",
              "    .colab-df-convert:hover {\n",
              "      background-color: #E2EBFA;\n",
              "      box-shadow: 0px 1px 2px rgba(60, 64, 67, 0.3), 0px 1px 3px 1px rgba(60, 64, 67, 0.15);\n",
              "      fill: #174EA6;\n",
              "    }\n",
              "\n",
              "    .colab-df-buttons div {\n",
              "      margin-bottom: 4px;\n",
              "    }\n",
              "\n",
              "    [theme=dark] .colab-df-convert {\n",
              "      background-color: #3B4455;\n",
              "      fill: #D2E3FC;\n",
              "    }\n",
              "\n",
              "    [theme=dark] .colab-df-convert:hover {\n",
              "      background-color: #434B5C;\n",
              "      box-shadow: 0px 1px 3px 1px rgba(0, 0, 0, 0.15);\n",
              "      filter: drop-shadow(0px 1px 2px rgba(0, 0, 0, 0.3));\n",
              "      fill: #FFFFFF;\n",
              "    }\n",
              "  </style>\n",
              "\n",
              "    <script>\n",
              "      const buttonEl =\n",
              "        document.querySelector('#df-a0532d78-527c-4c93-b18e-7445869d9b5b button.colab-df-convert');\n",
              "      buttonEl.style.display =\n",
              "        google.colab.kernel.accessAllowed ? 'block' : 'none';\n",
              "\n",
              "      async function convertToInteractive(key) {\n",
              "        const element = document.querySelector('#df-a0532d78-527c-4c93-b18e-7445869d9b5b');\n",
              "        const dataTable =\n",
              "          await google.colab.kernel.invokeFunction('convertToInteractive',\n",
              "                                                    [key], {});\n",
              "        if (!dataTable) return;\n",
              "\n",
              "        const docLinkHtml = 'Like what you see? Visit the ' +\n",
              "          '<a target=\"_blank\" href=https://colab.research.google.com/notebooks/data_table.ipynb>data table notebook</a>'\n",
              "          + ' to learn more about interactive tables.';\n",
              "        element.innerHTML = '';\n",
              "        dataTable['output_type'] = 'display_data';\n",
              "        await google.colab.output.renderOutput(dataTable, element);\n",
              "        const docLink = document.createElement('div');\n",
              "        docLink.innerHTML = docLinkHtml;\n",
              "        element.appendChild(docLink);\n",
              "      }\n",
              "    </script>\n",
              "  </div>\n",
              "\n",
              "\n",
              "<div id=\"df-0cba47ba-0f66-478f-9e88-a54ba6ec58b3\">\n",
              "  <button class=\"colab-df-quickchart\" onclick=\"quickchart('df-0cba47ba-0f66-478f-9e88-a54ba6ec58b3')\"\n",
              "            title=\"Suggest charts.\"\n",
              "            style=\"display:none;\">\n",
              "\n",
              "<svg xmlns=\"http://www.w3.org/2000/svg\" height=\"24px\"viewBox=\"0 0 24 24\"\n",
              "     width=\"24px\">\n",
              "    <g>\n",
              "        <path d=\"M19 3H5c-1.1 0-2 .9-2 2v14c0 1.1.9 2 2 2h14c1.1 0 2-.9 2-2V5c0-1.1-.9-2-2-2zM9 17H7v-7h2v7zm4 0h-2V7h2v10zm4 0h-2v-4h2v4z\"/>\n",
              "    </g>\n",
              "</svg>\n",
              "  </button>\n",
              "\n",
              "<style>\n",
              "  .colab-df-quickchart {\n",
              "    background-color: #E8F0FE;\n",
              "    border: none;\n",
              "    border-radius: 50%;\n",
              "    cursor: pointer;\n",
              "    display: none;\n",
              "    fill: #1967D2;\n",
              "    height: 32px;\n",
              "    padding: 0 0 0 0;\n",
              "    width: 32px;\n",
              "  }\n",
              "\n",
              "  .colab-df-quickchart:hover {\n",
              "    background-color: #E2EBFA;\n",
              "    box-shadow: 0px 1px 2px rgba(60, 64, 67, 0.3), 0px 1px 3px 1px rgba(60, 64, 67, 0.15);\n",
              "    fill: #174EA6;\n",
              "  }\n",
              "\n",
              "  [theme=dark] .colab-df-quickchart {\n",
              "    background-color: #3B4455;\n",
              "    fill: #D2E3FC;\n",
              "  }\n",
              "\n",
              "  [theme=dark] .colab-df-quickchart:hover {\n",
              "    background-color: #434B5C;\n",
              "    box-shadow: 0px 1px 3px 1px rgba(0, 0, 0, 0.15);\n",
              "    filter: drop-shadow(0px 1px 2px rgba(0, 0, 0, 0.3));\n",
              "    fill: #FFFFFF;\n",
              "  }\n",
              "</style>\n",
              "\n",
              "  <script>\n",
              "    async function quickchart(key) {\n",
              "      const charts = await google.colab.kernel.invokeFunction(\n",
              "          'suggestCharts', [key], {});\n",
              "    }\n",
              "    (() => {\n",
              "      let quickchartButtonEl =\n",
              "        document.querySelector('#df-0cba47ba-0f66-478f-9e88-a54ba6ec58b3 button');\n",
              "      quickchartButtonEl.style.display =\n",
              "        google.colab.kernel.accessAllowed ? 'block' : 'none';\n",
              "    })();\n",
              "  </script>\n",
              "</div>\n",
              "    </div>\n",
              "  </div>\n"
            ]
          },
          "metadata": {},
          "execution_count": 12
        }
      ]
    },
    {
      "cell_type": "code",
      "source": [
        "file.columns"
      ],
      "metadata": {
        "colab": {
          "base_uri": "https://localhost:8080/"
        },
        "id": "ABPVCKTbb6at",
        "outputId": "f76edb95-dcfc-44c5-b67e-8e3abf4abd54"
      },
      "execution_count": 13,
      "outputs": [
        {
          "output_type": "execute_result",
          "data": {
            "text/plain": [
              "Index(['id', 'date', 'user', 'pc', 'filename', 'activity',\n",
              "       'to_removable_media', 'from_removable_media', 'content', 'day', 'month',\n",
              "       'year', 'hour'],\n",
              "      dtype='object')"
            ]
          },
          "metadata": {},
          "execution_count": 13
        }
      ]
    },
    {
      "cell_type": "code",
      "source": [
        "file.filename.nunique()"
      ],
      "metadata": {
        "colab": {
          "base_uri": "https://localhost:8080/"
        },
        "id": "VhhpHViQb9gN",
        "outputId": "68f38ee8-206c-4a2a-df70-76f6ec8662bf"
      },
      "execution_count": 14,
      "outputs": [
        {
          "output_type": "execute_result",
          "data": {
            "text/plain": [
              "585980"
            ]
          },
          "metadata": {},
          "execution_count": 14
        }
      ]
    },
    {
      "cell_type": "code",
      "source": [
        "file.shape"
      ],
      "metadata": {
        "colab": {
          "base_uri": "https://localhost:8080/"
        },
        "id": "8twbMgwEcDR1",
        "outputId": "447911bc-5ccf-46b4-ebd7-7383e11a3f46"
      },
      "execution_count": 15,
      "outputs": [
        {
          "output_type": "execute_result",
          "data": {
            "text/plain": [
              "(2014883, 13)"
            ]
          },
          "metadata": {},
          "execution_count": 15
        }
      ]
    },
    {
      "cell_type": "code",
      "source": [
        "len(file.filename.value_counts(dropna=False))"
      ],
      "metadata": {
        "colab": {
          "base_uri": "https://localhost:8080/"
        },
        "id": "wuCFPqCfcFLW",
        "outputId": "e02c3465-ee40-48a8-d04e-00b6707adc07"
      },
      "execution_count": 17,
      "outputs": [
        {
          "output_type": "execute_result",
          "data": {
            "text/plain": [
              "585980"
            ]
          },
          "metadata": {},
          "execution_count": 17
        }
      ]
    },
    {
      "cell_type": "code",
      "source": [
        "label_encoder = LabelEncoder()\n",
        "file['user_encoded'] = label_encoder.fit_transform(file['user'])\n"
      ],
      "metadata": {
        "id": "vVPF3ds_cXWo"
      },
      "execution_count": 23,
      "outputs": []
    },
    {
      "cell_type": "code",
      "source": [
        "file['pc_encoded'] = label_encoder.fit_transform(file['pc'])"
      ],
      "metadata": {
        "id": "xs_klg3Ncv9H"
      },
      "execution_count": 24,
      "outputs": []
    },
    {
      "cell_type": "code",
      "source": [
        "file['activity_encoded'] = label_encoder.fit_transform(file['activity'])"
      ],
      "metadata": {
        "id": "cxZl_dQ_cy-z"
      },
      "execution_count": 25,
      "outputs": []
    },
    {
      "cell_type": "code",
      "source": [
        "file['to_removable_media_encoded'] = label_encoder.fit_transform(file['to_removable_media'])"
      ],
      "metadata": {
        "id": "D2UNTgVJc6Mr"
      },
      "execution_count": 26,
      "outputs": []
    },
    {
      "cell_type": "code",
      "source": [
        "file['from_removable_media_encoded'] = label_encoder.fit_transform(file['from_removable_media'])"
      ],
      "metadata": {
        "id": "WMJVX7f9dDlt"
      },
      "execution_count": 27,
      "outputs": []
    },
    {
      "cell_type": "code",
      "source": [
        "file['day_encoded']=label_encoder.fit_transform(file['day'])"
      ],
      "metadata": {
        "id": "t5uoMk6FdH5g"
      },
      "execution_count": 28,
      "outputs": []
    },
    {
      "cell_type": "code",
      "source": [
        "file.dtypes"
      ],
      "metadata": {
        "colab": {
          "base_uri": "https://localhost:8080/"
        },
        "id": "0CRk6tHhdPyg",
        "outputId": "de4cc88c-ba1b-4f26-8001-80470694597a"
      },
      "execution_count": 29,
      "outputs": [
        {
          "output_type": "execute_result",
          "data": {
            "text/plain": [
              "id                                      object\n",
              "date                            datetime64[ns]\n",
              "user                                    object\n",
              "pc                                      object\n",
              "filename                                object\n",
              "activity                                object\n",
              "to_removable_media                        bool\n",
              "from_removable_media                      bool\n",
              "content                                 object\n",
              "day                                     object\n",
              "month                                    int64\n",
              "year                                     int64\n",
              "hour                                     int64\n",
              "user_encoded                             int64\n",
              "pc_encoded                               int64\n",
              "activity_encoded                         int64\n",
              "to_removable_media_encoded               int64\n",
              "from_removable_media_encoded             int64\n",
              "day_encoded                              int64\n",
              "dtype: object"
            ]
          },
          "metadata": {},
          "execution_count": 29
        }
      ]
    },
    {
      "cell_type": "code",
      "source": [
        "numerical_columns = ['month','year','hour','user_encoded', 'activity_encoded', 'pc_encoded','to_removable_media_encoded','from_removable_media_encoded','day_encoded']"
      ],
      "metadata": {
        "id": "5DmtqQlCdRKz"
      },
      "execution_count": 30,
      "outputs": []
    },
    {
      "cell_type": "code",
      "source": [
        "isolation_forest = IsolationForest(contamination=0.05)"
      ],
      "metadata": {
        "id": "snY4GPMNdywk"
      },
      "execution_count": 31,
      "outputs": []
    },
    {
      "cell_type": "code",
      "source": [
        "isolation_forest.fit(file[numerical_columns])"
      ],
      "metadata": {
        "colab": {
          "base_uri": "https://localhost:8080/",
          "height": 129
        },
        "id": "adwLx_fXdt37",
        "outputId": "6abdb74d-8fd0-40ed-f1d9-84eec125166a"
      },
      "execution_count": 32,
      "outputs": [
        {
          "output_type": "stream",
          "name": "stderr",
          "text": [
            "/usr/local/lib/python3.10/dist-packages/sklearn/base.py:439: UserWarning: X does not have valid feature names, but IsolationForest was fitted with feature names\n",
            "  warnings.warn(\n"
          ]
        },
        {
          "output_type": "execute_result",
          "data": {
            "text/plain": [
              "IsolationForest(contamination=0.05)"
            ],
            "text/html": [
              "<style>#sk-container-id-1 {color: black;background-color: white;}#sk-container-id-1 pre{padding: 0;}#sk-container-id-1 div.sk-toggleable {background-color: white;}#sk-container-id-1 label.sk-toggleable__label {cursor: pointer;display: block;width: 100%;margin-bottom: 0;padding: 0.3em;box-sizing: border-box;text-align: center;}#sk-container-id-1 label.sk-toggleable__label-arrow:before {content: \"▸\";float: left;margin-right: 0.25em;color: #696969;}#sk-container-id-1 label.sk-toggleable__label-arrow:hover:before {color: black;}#sk-container-id-1 div.sk-estimator:hover label.sk-toggleable__label-arrow:before {color: black;}#sk-container-id-1 div.sk-toggleable__content {max-height: 0;max-width: 0;overflow: hidden;text-align: left;background-color: #f0f8ff;}#sk-container-id-1 div.sk-toggleable__content pre {margin: 0.2em;color: black;border-radius: 0.25em;background-color: #f0f8ff;}#sk-container-id-1 input.sk-toggleable__control:checked~div.sk-toggleable__content {max-height: 200px;max-width: 100%;overflow: auto;}#sk-container-id-1 input.sk-toggleable__control:checked~label.sk-toggleable__label-arrow:before {content: \"▾\";}#sk-container-id-1 div.sk-estimator input.sk-toggleable__control:checked~label.sk-toggleable__label {background-color: #d4ebff;}#sk-container-id-1 div.sk-label input.sk-toggleable__control:checked~label.sk-toggleable__label {background-color: #d4ebff;}#sk-container-id-1 input.sk-hidden--visually {border: 0;clip: rect(1px 1px 1px 1px);clip: rect(1px, 1px, 1px, 1px);height: 1px;margin: -1px;overflow: hidden;padding: 0;position: absolute;width: 1px;}#sk-container-id-1 div.sk-estimator {font-family: monospace;background-color: #f0f8ff;border: 1px dotted black;border-radius: 0.25em;box-sizing: border-box;margin-bottom: 0.5em;}#sk-container-id-1 div.sk-estimator:hover {background-color: #d4ebff;}#sk-container-id-1 div.sk-parallel-item::after {content: \"\";width: 100%;border-bottom: 1px solid gray;flex-grow: 1;}#sk-container-id-1 div.sk-label:hover label.sk-toggleable__label {background-color: #d4ebff;}#sk-container-id-1 div.sk-serial::before {content: \"\";position: absolute;border-left: 1px solid gray;box-sizing: border-box;top: 0;bottom: 0;left: 50%;z-index: 0;}#sk-container-id-1 div.sk-serial {display: flex;flex-direction: column;align-items: center;background-color: white;padding-right: 0.2em;padding-left: 0.2em;position: relative;}#sk-container-id-1 div.sk-item {position: relative;z-index: 1;}#sk-container-id-1 div.sk-parallel {display: flex;align-items: stretch;justify-content: center;background-color: white;position: relative;}#sk-container-id-1 div.sk-item::before, #sk-container-id-1 div.sk-parallel-item::before {content: \"\";position: absolute;border-left: 1px solid gray;box-sizing: border-box;top: 0;bottom: 0;left: 50%;z-index: -1;}#sk-container-id-1 div.sk-parallel-item {display: flex;flex-direction: column;z-index: 1;position: relative;background-color: white;}#sk-container-id-1 div.sk-parallel-item:first-child::after {align-self: flex-end;width: 50%;}#sk-container-id-1 div.sk-parallel-item:last-child::after {align-self: flex-start;width: 50%;}#sk-container-id-1 div.sk-parallel-item:only-child::after {width: 0;}#sk-container-id-1 div.sk-dashed-wrapped {border: 1px dashed gray;margin: 0 0.4em 0.5em 0.4em;box-sizing: border-box;padding-bottom: 0.4em;background-color: white;}#sk-container-id-1 div.sk-label label {font-family: monospace;font-weight: bold;display: inline-block;line-height: 1.2em;}#sk-container-id-1 div.sk-label-container {text-align: center;}#sk-container-id-1 div.sk-container {/* jupyter's `normalize.less` sets `[hidden] { display: none; }` but bootstrap.min.css set `[hidden] { display: none !important; }` so we also need the `!important` here to be able to override the default hidden behavior on the sphinx rendered scikit-learn.org. See: https://github.com/scikit-learn/scikit-learn/issues/21755 */display: inline-block !important;position: relative;}#sk-container-id-1 div.sk-text-repr-fallback {display: none;}</style><div id=\"sk-container-id-1\" class=\"sk-top-container\"><div class=\"sk-text-repr-fallback\"><pre>IsolationForest(contamination=0.05)</pre><b>In a Jupyter environment, please rerun this cell to show the HTML representation or trust the notebook. <br />On GitHub, the HTML representation is unable to render, please try loading this page with nbviewer.org.</b></div><div class=\"sk-container\" hidden><div class=\"sk-item\"><div class=\"sk-estimator sk-toggleable\"><input class=\"sk-toggleable__control sk-hidden--visually\" id=\"sk-estimator-id-1\" type=\"checkbox\" checked><label for=\"sk-estimator-id-1\" class=\"sk-toggleable__label sk-toggleable__label-arrow\">IsolationForest</label><div class=\"sk-toggleable__content\"><pre>IsolationForest(contamination=0.05)</pre></div></div></div></div></div>"
            ]
          },
          "metadata": {},
          "execution_count": 32
        }
      ]
    },
    {
      "cell_type": "code",
      "source": [
        "file['anomaly_score'] = isolation_forest.decision_function(file[numerical_columns])\n",
        "file['anomaly_label'] = isolation_forest.predict(file[numerical_columns])"
      ],
      "metadata": {
        "id": "YAkSswf_d2OW"
      },
      "execution_count": 33,
      "outputs": []
    },
    {
      "cell_type": "code",
      "source": [
        "file.head()"
      ],
      "metadata": {
        "colab": {
          "base_uri": "https://localhost:8080/",
          "height": 689
        },
        "id": "Kc-mSK6oeUY6",
        "outputId": "5e0bf65e-0e2f-465b-b9c4-f062548f08cd"
      },
      "execution_count": 34,
      "outputs": [
        {
          "output_type": "execute_result",
          "data": {
            "text/plain": [
              "                         id                date     user       pc  \\\n",
              "0  {F3E2-X3MV05YQ-3516SZDT} 2010-01-02 07:19:41  SDH2394  PC-5849   \n",
              "1  {I6N1-Z7VL92UY-8715ESKQ} 2010-01-02 07:21:30  SDH2394  PC-5849   \n",
              "2  {G4X5-J7MH70FV-8936QVSB} 2010-01-02 07:22:11  SDH2394  PC-5849   \n",
              "3  {M2M7-Z5ST21EU-6704NSKO} 2010-01-02 07:24:06  SDH2394  PC-5849   \n",
              "4  {R0A9-O9XB25PE-9236MALV} 2010-01-02 07:24:45  SDH2394  PC-5849   \n",
              "\n",
              "                  filename    activity  to_removable_media  \\\n",
              "0          R:\\60WBQE7S.doc   File Open               False   \n",
              "1          R:\\0VGILDW8.pdf  File Write                True   \n",
              "2          R:\\60WBQE7S.doc   File Copy               False   \n",
              "3  R:\\22B5gX4\\H8Y96RRE.doc  File Write                True   \n",
              "4  R:\\SDH2394\\7XRCV2N5.pdf   File Copy                True   \n",
              "\n",
              "   from_removable_media                                            content  \\\n",
              "0                  True  D0-CF-11-E0-A1-B1-1A-E1 Ernesztin's brother, L...   \n",
              "1                 False  25-50-44-46-2D ---- Bengali As do many other T...   \n",
              "2                  True  D0-CF-11-E0-A1-B1-1A-E1 Ernesztin's brother, L...   \n",
              "3                 False  D0-CF-11-E0-A1-B1-1A-E1 After the death of his...   \n",
              "4                 False  25-50-44-46-2D Although he restored some of th...   \n",
              "\n",
              "        day  ...  year  hour  user_encoded  pc_encoded  activity_encoded  \\\n",
              "0  Saturday  ...  2010     7          2657        2257                 2   \n",
              "1  Saturday  ...  2010     7          2657        2257                 3   \n",
              "2  Saturday  ...  2010     7          2657        2257                 0   \n",
              "3  Saturday  ...  2010     7          2657        2257                 3   \n",
              "4  Saturday  ...  2010     7          2657        2257                 0   \n",
              "\n",
              "   to_removable_media_encoded  from_removable_media_encoded  day_encoded  \\\n",
              "0                           0                             1            2   \n",
              "1                           1                             0            2   \n",
              "2                           0                             1            2   \n",
              "3                           1                             0            2   \n",
              "4                           1                             0            2   \n",
              "\n",
              "   anomaly_score  anomaly_label  \n",
              "0       0.048143              1  \n",
              "1       0.011752              1  \n",
              "2       0.050242              1  \n",
              "3       0.011752              1  \n",
              "4       0.025863              1  \n",
              "\n",
              "[5 rows x 21 columns]"
            ],
            "text/html": [
              "\n",
              "  <div id=\"df-a6dab4a8-ecfc-4db8-9a4d-a06f3ddb6226\" class=\"colab-df-container\">\n",
              "    <div>\n",
              "<style scoped>\n",
              "    .dataframe tbody tr th:only-of-type {\n",
              "        vertical-align: middle;\n",
              "    }\n",
              "\n",
              "    .dataframe tbody tr th {\n",
              "        vertical-align: top;\n",
              "    }\n",
              "\n",
              "    .dataframe thead th {\n",
              "        text-align: right;\n",
              "    }\n",
              "</style>\n",
              "<table border=\"1\" class=\"dataframe\">\n",
              "  <thead>\n",
              "    <tr style=\"text-align: right;\">\n",
              "      <th></th>\n",
              "      <th>id</th>\n",
              "      <th>date</th>\n",
              "      <th>user</th>\n",
              "      <th>pc</th>\n",
              "      <th>filename</th>\n",
              "      <th>activity</th>\n",
              "      <th>to_removable_media</th>\n",
              "      <th>from_removable_media</th>\n",
              "      <th>content</th>\n",
              "      <th>day</th>\n",
              "      <th>...</th>\n",
              "      <th>year</th>\n",
              "      <th>hour</th>\n",
              "      <th>user_encoded</th>\n",
              "      <th>pc_encoded</th>\n",
              "      <th>activity_encoded</th>\n",
              "      <th>to_removable_media_encoded</th>\n",
              "      <th>from_removable_media_encoded</th>\n",
              "      <th>day_encoded</th>\n",
              "      <th>anomaly_score</th>\n",
              "      <th>anomaly_label</th>\n",
              "    </tr>\n",
              "  </thead>\n",
              "  <tbody>\n",
              "    <tr>\n",
              "      <th>0</th>\n",
              "      <td>{F3E2-X3MV05YQ-3516SZDT}</td>\n",
              "      <td>2010-01-02 07:19:41</td>\n",
              "      <td>SDH2394</td>\n",
              "      <td>PC-5849</td>\n",
              "      <td>R:\\60WBQE7S.doc</td>\n",
              "      <td>File Open</td>\n",
              "      <td>False</td>\n",
              "      <td>True</td>\n",
              "      <td>D0-CF-11-E0-A1-B1-1A-E1 Ernesztin's brother, L...</td>\n",
              "      <td>Saturday</td>\n",
              "      <td>...</td>\n",
              "      <td>2010</td>\n",
              "      <td>7</td>\n",
              "      <td>2657</td>\n",
              "      <td>2257</td>\n",
              "      <td>2</td>\n",
              "      <td>0</td>\n",
              "      <td>1</td>\n",
              "      <td>2</td>\n",
              "      <td>0.048143</td>\n",
              "      <td>1</td>\n",
              "    </tr>\n",
              "    <tr>\n",
              "      <th>1</th>\n",
              "      <td>{I6N1-Z7VL92UY-8715ESKQ}</td>\n",
              "      <td>2010-01-02 07:21:30</td>\n",
              "      <td>SDH2394</td>\n",
              "      <td>PC-5849</td>\n",
              "      <td>R:\\0VGILDW8.pdf</td>\n",
              "      <td>File Write</td>\n",
              "      <td>True</td>\n",
              "      <td>False</td>\n",
              "      <td>25-50-44-46-2D ---- Bengali As do many other T...</td>\n",
              "      <td>Saturday</td>\n",
              "      <td>...</td>\n",
              "      <td>2010</td>\n",
              "      <td>7</td>\n",
              "      <td>2657</td>\n",
              "      <td>2257</td>\n",
              "      <td>3</td>\n",
              "      <td>1</td>\n",
              "      <td>0</td>\n",
              "      <td>2</td>\n",
              "      <td>0.011752</td>\n",
              "      <td>1</td>\n",
              "    </tr>\n",
              "    <tr>\n",
              "      <th>2</th>\n",
              "      <td>{G4X5-J7MH70FV-8936QVSB}</td>\n",
              "      <td>2010-01-02 07:22:11</td>\n",
              "      <td>SDH2394</td>\n",
              "      <td>PC-5849</td>\n",
              "      <td>R:\\60WBQE7S.doc</td>\n",
              "      <td>File Copy</td>\n",
              "      <td>False</td>\n",
              "      <td>True</td>\n",
              "      <td>D0-CF-11-E0-A1-B1-1A-E1 Ernesztin's brother, L...</td>\n",
              "      <td>Saturday</td>\n",
              "      <td>...</td>\n",
              "      <td>2010</td>\n",
              "      <td>7</td>\n",
              "      <td>2657</td>\n",
              "      <td>2257</td>\n",
              "      <td>0</td>\n",
              "      <td>0</td>\n",
              "      <td>1</td>\n",
              "      <td>2</td>\n",
              "      <td>0.050242</td>\n",
              "      <td>1</td>\n",
              "    </tr>\n",
              "    <tr>\n",
              "      <th>3</th>\n",
              "      <td>{M2M7-Z5ST21EU-6704NSKO}</td>\n",
              "      <td>2010-01-02 07:24:06</td>\n",
              "      <td>SDH2394</td>\n",
              "      <td>PC-5849</td>\n",
              "      <td>R:\\22B5gX4\\H8Y96RRE.doc</td>\n",
              "      <td>File Write</td>\n",
              "      <td>True</td>\n",
              "      <td>False</td>\n",
              "      <td>D0-CF-11-E0-A1-B1-1A-E1 After the death of his...</td>\n",
              "      <td>Saturday</td>\n",
              "      <td>...</td>\n",
              "      <td>2010</td>\n",
              "      <td>7</td>\n",
              "      <td>2657</td>\n",
              "      <td>2257</td>\n",
              "      <td>3</td>\n",
              "      <td>1</td>\n",
              "      <td>0</td>\n",
              "      <td>2</td>\n",
              "      <td>0.011752</td>\n",
              "      <td>1</td>\n",
              "    </tr>\n",
              "    <tr>\n",
              "      <th>4</th>\n",
              "      <td>{R0A9-O9XB25PE-9236MALV}</td>\n",
              "      <td>2010-01-02 07:24:45</td>\n",
              "      <td>SDH2394</td>\n",
              "      <td>PC-5849</td>\n",
              "      <td>R:\\SDH2394\\7XRCV2N5.pdf</td>\n",
              "      <td>File Copy</td>\n",
              "      <td>True</td>\n",
              "      <td>False</td>\n",
              "      <td>25-50-44-46-2D Although he restored some of th...</td>\n",
              "      <td>Saturday</td>\n",
              "      <td>...</td>\n",
              "      <td>2010</td>\n",
              "      <td>7</td>\n",
              "      <td>2657</td>\n",
              "      <td>2257</td>\n",
              "      <td>0</td>\n",
              "      <td>1</td>\n",
              "      <td>0</td>\n",
              "      <td>2</td>\n",
              "      <td>0.025863</td>\n",
              "      <td>1</td>\n",
              "    </tr>\n",
              "  </tbody>\n",
              "</table>\n",
              "<p>5 rows × 21 columns</p>\n",
              "</div>\n",
              "    <div class=\"colab-df-buttons\">\n",
              "\n",
              "  <div class=\"colab-df-container\">\n",
              "    <button class=\"colab-df-convert\" onclick=\"convertToInteractive('df-a6dab4a8-ecfc-4db8-9a4d-a06f3ddb6226')\"\n",
              "            title=\"Convert this dataframe to an interactive table.\"\n",
              "            style=\"display:none;\">\n",
              "\n",
              "  <svg xmlns=\"http://www.w3.org/2000/svg\" height=\"24px\" viewBox=\"0 -960 960 960\">\n",
              "    <path d=\"M120-120v-720h720v720H120Zm60-500h600v-160H180v160Zm220 220h160v-160H400v160Zm0 220h160v-160H400v160ZM180-400h160v-160H180v160Zm440 0h160v-160H620v160ZM180-180h160v-160H180v160Zm440 0h160v-160H620v160Z\"/>\n",
              "  </svg>\n",
              "    </button>\n",
              "\n",
              "  <style>\n",
              "    .colab-df-container {\n",
              "      display:flex;\n",
              "      gap: 12px;\n",
              "    }\n",
              "\n",
              "    .colab-df-convert {\n",
              "      background-color: #E8F0FE;\n",
              "      border: none;\n",
              "      border-radius: 50%;\n",
              "      cursor: pointer;\n",
              "      display: none;\n",
              "      fill: #1967D2;\n",
              "      height: 32px;\n",
              "      padding: 0 0 0 0;\n",
              "      width: 32px;\n",
              "    }\n",
              "\n",
              "    .colab-df-convert:hover {\n",
              "      background-color: #E2EBFA;\n",
              "      box-shadow: 0px 1px 2px rgba(60, 64, 67, 0.3), 0px 1px 3px 1px rgba(60, 64, 67, 0.15);\n",
              "      fill: #174EA6;\n",
              "    }\n",
              "\n",
              "    .colab-df-buttons div {\n",
              "      margin-bottom: 4px;\n",
              "    }\n",
              "\n",
              "    [theme=dark] .colab-df-convert {\n",
              "      background-color: #3B4455;\n",
              "      fill: #D2E3FC;\n",
              "    }\n",
              "\n",
              "    [theme=dark] .colab-df-convert:hover {\n",
              "      background-color: #434B5C;\n",
              "      box-shadow: 0px 1px 3px 1px rgba(0, 0, 0, 0.15);\n",
              "      filter: drop-shadow(0px 1px 2px rgba(0, 0, 0, 0.3));\n",
              "      fill: #FFFFFF;\n",
              "    }\n",
              "  </style>\n",
              "\n",
              "    <script>\n",
              "      const buttonEl =\n",
              "        document.querySelector('#df-a6dab4a8-ecfc-4db8-9a4d-a06f3ddb6226 button.colab-df-convert');\n",
              "      buttonEl.style.display =\n",
              "        google.colab.kernel.accessAllowed ? 'block' : 'none';\n",
              "\n",
              "      async function convertToInteractive(key) {\n",
              "        const element = document.querySelector('#df-a6dab4a8-ecfc-4db8-9a4d-a06f3ddb6226');\n",
              "        const dataTable =\n",
              "          await google.colab.kernel.invokeFunction('convertToInteractive',\n",
              "                                                    [key], {});\n",
              "        if (!dataTable) return;\n",
              "\n",
              "        const docLinkHtml = 'Like what you see? Visit the ' +\n",
              "          '<a target=\"_blank\" href=https://colab.research.google.com/notebooks/data_table.ipynb>data table notebook</a>'\n",
              "          + ' to learn more about interactive tables.';\n",
              "        element.innerHTML = '';\n",
              "        dataTable['output_type'] = 'display_data';\n",
              "        await google.colab.output.renderOutput(dataTable, element);\n",
              "        const docLink = document.createElement('div');\n",
              "        docLink.innerHTML = docLinkHtml;\n",
              "        element.appendChild(docLink);\n",
              "      }\n",
              "    </script>\n",
              "  </div>\n",
              "\n",
              "\n",
              "<div id=\"df-a2a06cff-9cf9-4d31-bf14-d15c6869b2be\">\n",
              "  <button class=\"colab-df-quickchart\" onclick=\"quickchart('df-a2a06cff-9cf9-4d31-bf14-d15c6869b2be')\"\n",
              "            title=\"Suggest charts.\"\n",
              "            style=\"display:none;\">\n",
              "\n",
              "<svg xmlns=\"http://www.w3.org/2000/svg\" height=\"24px\"viewBox=\"0 0 24 24\"\n",
              "     width=\"24px\">\n",
              "    <g>\n",
              "        <path d=\"M19 3H5c-1.1 0-2 .9-2 2v14c0 1.1.9 2 2 2h14c1.1 0 2-.9 2-2V5c0-1.1-.9-2-2-2zM9 17H7v-7h2v7zm4 0h-2V7h2v10zm4 0h-2v-4h2v4z\"/>\n",
              "    </g>\n",
              "</svg>\n",
              "  </button>\n",
              "\n",
              "<style>\n",
              "  .colab-df-quickchart {\n",
              "    background-color: #E8F0FE;\n",
              "    border: none;\n",
              "    border-radius: 50%;\n",
              "    cursor: pointer;\n",
              "    display: none;\n",
              "    fill: #1967D2;\n",
              "    height: 32px;\n",
              "    padding: 0 0 0 0;\n",
              "    width: 32px;\n",
              "  }\n",
              "\n",
              "  .colab-df-quickchart:hover {\n",
              "    background-color: #E2EBFA;\n",
              "    box-shadow: 0px 1px 2px rgba(60, 64, 67, 0.3), 0px 1px 3px 1px rgba(60, 64, 67, 0.15);\n",
              "    fill: #174EA6;\n",
              "  }\n",
              "\n",
              "  [theme=dark] .colab-df-quickchart {\n",
              "    background-color: #3B4455;\n",
              "    fill: #D2E3FC;\n",
              "  }\n",
              "\n",
              "  [theme=dark] .colab-df-quickchart:hover {\n",
              "    background-color: #434B5C;\n",
              "    box-shadow: 0px 1px 3px 1px rgba(0, 0, 0, 0.15);\n",
              "    filter: drop-shadow(0px 1px 2px rgba(0, 0, 0, 0.3));\n",
              "    fill: #FFFFFF;\n",
              "  }\n",
              "</style>\n",
              "\n",
              "  <script>\n",
              "    async function quickchart(key) {\n",
              "      const charts = await google.colab.kernel.invokeFunction(\n",
              "          'suggestCharts', [key], {});\n",
              "    }\n",
              "    (() => {\n",
              "      let quickchartButtonEl =\n",
              "        document.querySelector('#df-a2a06cff-9cf9-4d31-bf14-d15c6869b2be button');\n",
              "      quickchartButtonEl.style.display =\n",
              "        google.colab.kernel.accessAllowed ? 'block' : 'none';\n",
              "    })();\n",
              "  </script>\n",
              "</div>\n",
              "    </div>\n",
              "  </div>\n"
            ]
          },
          "metadata": {},
          "execution_count": 34
        }
      ]
    },
    {
      "cell_type": "code",
      "source": [
        "# Visualize anomalies\n",
        "plt.figure(figsize=(10, 6))\n",
        "sns.scatterplot(data=file, x='hour', y='day', hue='anomaly_label', palette='coolwarm')\n",
        "plt.title('Anomaly Detection using Isolation Forest')\n",
        "plt.xlabel('Hour')\n",
        "plt.ylabel('Day')\n",
        "plt.show()"
      ],
      "metadata": {
        "colab": {
          "base_uri": "https://localhost:8080/",
          "height": 592
        },
        "id": "N2tWxc6_et52",
        "outputId": "cb4ca1f9-7c3a-4c5f-d486-4655b2c97e9c"
      },
      "execution_count": 35,
      "outputs": [
        {
          "output_type": "stream",
          "name": "stderr",
          "text": [
            "/usr/local/lib/python3.10/dist-packages/IPython/core/pylabtools.py:151: UserWarning: Creating legend with loc=\"best\" can be slow with large amounts of data.\n",
            "  fig.canvas.print_figure(bytes_io, **kw)\n"
          ]
        },
        {
          "output_type": "display_data",
          "data": {
            "text/plain": [
              "<Figure size 1000x600 with 1 Axes>"
            ],
            "image/png": "[encoded data removed]"
          },
          "metadata": {}
        }
      ]
    },
    {
      "cell_type": "code",
      "source": [
        "output_path = '/content/drive/MyDrive/file_results.csv'\n",
        "\n",
        "# Save the DataFrame as a CSV file\n",
        "file.to_csv(output_path, index=False)"
      ],
      "metadata": {
        "id": "WnlsByZFe1E7"
      },
      "execution_count": 36,
      "outputs": []
    },
    {
      "cell_type": "code",
      "source": [],
      "metadata": {
        "id": "e5WhKeLXfwMU"
      },
      "execution_count": null,
      "outputs": []
    }
  ]
}